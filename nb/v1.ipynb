{
 "cells": [
  {
   "cell_type": "code",
   "execution_count": 1,
   "id": "3ce3c048-8876-4143-858b-12e71b4cc021",
   "metadata": {},
   "outputs": [],
   "source": [
    "# Playgroud Series - Binary Prediction of Poisonous Mushrooms\n",
    "  # ttps://www.kaggle.com/competitions/playground-series-s4e8/\n",
    "  # Your Goal: predict whether a mushroom is edible or poisonous based on its physical characteristics.\n",
    "  # Metric: Submissions are evaluated using the Matthews correlation coefficient (MCC): iT is used in machine learning as a measure of the quality of binary and multiclass classifications."
   ]
  },
  {
   "cell_type": "code",
   "execution_count": null,
   "id": "fa9a86c6-b8b5-47af-afde-c7750cc34ec8",
   "metadata": {},
   "outputs": [],
   "source": [
    "# Possible improvements:\n",
    "    # Run CatBoost with more estimators will give better results.\n",
    "    # Feature selection\n",
    "    # As long as there is a lot of NaNs, many people fill them with the mode, or sth similar.\n",
    "        # Score improves when, rather than imputing these NaNs with mode value, one assigns them with a dedicated category instead. \n",
    "        # https://www.kaggle.com/competitions/playground-series-s4e8/discussion/524014"
   ]
  },
  {
   "cell_type": "markdown",
   "id": "24bcbf06-f9a3-48fb-af74-9e30ceef4c74",
   "metadata": {},
   "source": [
    "# Imports"
   ]
  },
  {
   "cell_type": "code",
   "execution_count": 471,
   "id": "d565d037-388a-427e-ab8e-47313724ed79",
   "metadata": {},
   "outputs": [],
   "source": [
    "import pandas as pd\n",
    "import numpy as np\n",
    "import seaborn as sns\n",
    "import matplotlib.pyplot as plt\n",
    "from tabulate import tabulate\n",
    "#import polars as pl\n",
    "\n",
    "from sklearn.impute import KNNImputer\n",
    "\n",
    "from sklearn.model_selection         import train_test_split, GridSearchCV#, StratifiedKFold#, cross_val_score\n",
    "# from sklearn.preprocessing         import MinMaxScaler #OneHotEncoder  \n",
    "# from sklearn.metrics               import roc_auc_score, roc_curve, auc, confusion_matrix, ConfusionMatrixDisplay\n",
    "# from sklearn.tree                  import DecisionTreeClassifier, plot_tree\n",
    "#from sklearn.ensemble               import RandomForestClassifier\n",
    "# from sklearn.linear_model          import LogisticRegressionCV, LogisticRegression\n",
    "\n",
    "\n",
    "from catboost                        import CatBoostClassifier, Pool #Numpy downgrade needed: pip install numpy==1.26.4 (from mar/24), and Open new jupyter from that terminal to get the new version!\n",
    "# from sklearn.pipeline              import Pipeline\n",
    "# from skopt                         import BayesSearchCV, space\n",
    "\n",
    "pd.set_option('max_colwidth', 100) #cols to be shown\n",
    "pd.set_option('display.max_columns', None)\n",
    "pd.set_option('display.float_format', lambda x: '%.3f' % x) #pandas decimal places\n",
    "#np.set_printoptions(suppress=True, precision=3)#numpy decimal places"
   ]
  },
  {
   "cell_type": "markdown",
   "id": "71d1c648-c9b5-4331-8cb7-308bbb7f75f3",
   "metadata": {
    "jp-MarkdownHeadingCollapsed": true
   },
   "source": [
    "# Load Data"
   ]
  },
  {
   "cell_type": "code",
   "execution_count": 69,
   "id": "0456304c-3eb8-4a0c-bc86-7e9dce92c04c",
   "metadata": {},
   "outputs": [
    {
     "name": "stdout",
     "output_type": "stream",
     "text": [
      "(3116945, 21)\n"
     ]
    },
    {
     "data": {
      "text/html": [
       "<div>\n",
       "<style scoped>\n",
       "    .dataframe tbody tr th:only-of-type {\n",
       "        vertical-align: middle;\n",
       "    }\n",
       "\n",
       "    .dataframe tbody tr th {\n",
       "        vertical-align: top;\n",
       "    }\n",
       "\n",
       "    .dataframe thead th {\n",
       "        text-align: right;\n",
       "    }\n",
       "</style>\n",
       "<table border=\"1\" class=\"dataframe\">\n",
       "  <thead>\n",
       "    <tr style=\"text-align: right;\">\n",
       "      <th></th>\n",
       "      <th>target</th>\n",
       "      <th>cap-diameter</th>\n",
       "      <th>cap-shape</th>\n",
       "      <th>cap-surface</th>\n",
       "      <th>cap-color</th>\n",
       "      <th>does-bruise-or-bleed</th>\n",
       "      <th>gill-attachment</th>\n",
       "      <th>gill-spacing</th>\n",
       "      <th>gill-color</th>\n",
       "      <th>stem-height</th>\n",
       "      <th>stem-width</th>\n",
       "      <th>stem-root</th>\n",
       "      <th>stem-surface</th>\n",
       "      <th>stem-color</th>\n",
       "      <th>veil-type</th>\n",
       "      <th>veil-color</th>\n",
       "      <th>has-ring</th>\n",
       "      <th>ring-type</th>\n",
       "      <th>spore-print-color</th>\n",
       "      <th>habitat</th>\n",
       "      <th>season</th>\n",
       "    </tr>\n",
       "    <tr>\n",
       "      <th>id</th>\n",
       "      <th></th>\n",
       "      <th></th>\n",
       "      <th></th>\n",
       "      <th></th>\n",
       "      <th></th>\n",
       "      <th></th>\n",
       "      <th></th>\n",
       "      <th></th>\n",
       "      <th></th>\n",
       "      <th></th>\n",
       "      <th></th>\n",
       "      <th></th>\n",
       "      <th></th>\n",
       "      <th></th>\n",
       "      <th></th>\n",
       "      <th></th>\n",
       "      <th></th>\n",
       "      <th></th>\n",
       "      <th></th>\n",
       "      <th></th>\n",
       "      <th></th>\n",
       "    </tr>\n",
       "  </thead>\n",
       "  <tbody>\n",
       "    <tr>\n",
       "      <th>0</th>\n",
       "      <td>e</td>\n",
       "      <td>8.800</td>\n",
       "      <td>f</td>\n",
       "      <td>s</td>\n",
       "      <td>u</td>\n",
       "      <td>f</td>\n",
       "      <td>a</td>\n",
       "      <td>c</td>\n",
       "      <td>w</td>\n",
       "      <td>4.510</td>\n",
       "      <td>15.390</td>\n",
       "      <td>NaN</td>\n",
       "      <td>NaN</td>\n",
       "      <td>w</td>\n",
       "      <td>NaN</td>\n",
       "      <td>NaN</td>\n",
       "      <td>f</td>\n",
       "      <td>f</td>\n",
       "      <td>NaN</td>\n",
       "      <td>d</td>\n",
       "      <td>a</td>\n",
       "    </tr>\n",
       "    <tr>\n",
       "      <th>1</th>\n",
       "      <td>p</td>\n",
       "      <td>4.510</td>\n",
       "      <td>x</td>\n",
       "      <td>h</td>\n",
       "      <td>o</td>\n",
       "      <td>f</td>\n",
       "      <td>a</td>\n",
       "      <td>c</td>\n",
       "      <td>n</td>\n",
       "      <td>4.790</td>\n",
       "      <td>6.480</td>\n",
       "      <td>NaN</td>\n",
       "      <td>y</td>\n",
       "      <td>o</td>\n",
       "      <td>NaN</td>\n",
       "      <td>NaN</td>\n",
       "      <td>t</td>\n",
       "      <td>z</td>\n",
       "      <td>NaN</td>\n",
       "      <td>d</td>\n",
       "      <td>w</td>\n",
       "    </tr>\n",
       "  </tbody>\n",
       "</table>\n",
       "</div>"
      ],
      "text/plain": [
       "   target  cap-diameter cap-shape cap-surface cap-color does-bruise-or-bleed  \\\n",
       "id                                                                             \n",
       "0       e         8.800         f           s         u                    f   \n",
       "1       p         4.510         x           h         o                    f   \n",
       "\n",
       "   gill-attachment gill-spacing gill-color  stem-height  stem-width stem-root  \\\n",
       "id                                                                              \n",
       "0                a            c          w        4.510      15.390       NaN   \n",
       "1                a            c          n        4.790       6.480       NaN   \n",
       "\n",
       "   stem-surface stem-color veil-type veil-color has-ring ring-type  \\\n",
       "id                                                                   \n",
       "0           NaN          w       NaN        NaN        f         f   \n",
       "1             y          o       NaN        NaN        t         z   \n",
       "\n",
       "   spore-print-color habitat season  \n",
       "id                                   \n",
       "0                NaN       d      a  \n",
       "1                NaN       d      w  "
      ]
     },
     "execution_count": 69,
     "metadata": {},
     "output_type": "execute_result"
    }
   ],
   "source": [
    "train = pd.read_csv('..\\\\dt\\\\kaggle\\\\train.csv', index_col='id')\n",
    "print(train.shape)\n",
    "train.rename(columns={'class':'target'}, inplace=True) #class is reserved python word\n",
    "train[:2]"
   ]
  },
  {
   "cell_type": "code",
   "execution_count": 70,
   "id": "cb931f87-163b-4851-baf5-14393d24fa51",
   "metadata": {},
   "outputs": [
    {
     "data": {
      "text/plain": [
       "target\n",
       "p    1705396\n",
       "e    1411549\n",
       "Name: count, dtype: int64"
      ]
     },
     "execution_count": 70,
     "metadata": {},
     "output_type": "execute_result"
    }
   ],
   "source": [
    "train['target'].value_counts()"
   ]
  },
  {
   "cell_type": "code",
   "execution_count": 71,
   "id": "a91f3063-a2a7-4ff6-a719-1922345461a1",
   "metadata": {},
   "outputs": [],
   "source": [
    "train = train.copy()\n",
    "# Balanced Classification problem"
   ]
  },
  {
   "cell_type": "markdown",
   "id": "6d410853-6f82-4c2e-9f8a-f09e140477db",
   "metadata": {
    "jp-MarkdownHeadingCollapsed": true
   },
   "source": [
    "# Data Cleaning"
   ]
  },
  {
   "cell_type": "code",
   "execution_count": 72,
   "id": "8e5f82e6-6119-454b-bef7-fc70a9df3490",
   "metadata": {},
   "outputs": [],
   "source": [
    "# Meanings:"
   ]
  },
  {
   "cell_type": "code",
   "execution_count": 73,
   "id": "7cb645e4-bbde-4e60-91d3-a8f7cdcc7d9b",
   "metadata": {
    "jupyter": {
     "source_hidden": true
    }
   },
   "outputs": [],
   "source": [
    "\n",
    "# target: poisonous(p), eatable(e) \n",
    "# cap-diameter (m): float number in cm\n",
    "# cap-shape (n): bell=b, conical=c, convex=x, flat=f, sunken=s, spherical=p, others=o\n",
    "# cap-surface (n): fibrous=i, grooves=g, scaly=y, smooth=s, shiny=h, leathery=l, silky=k, sticky=t, wrinkled=w, fleshy=e\n",
    "# cap-color (n): brown=n, buff=b, gray=g, green=r, pink=p, purple=u, red=e, white=w, yellow=y, blue=l, orange=o, black=k\n",
    "# does-bruise-or-bleed (n): bruises-or-bleeding=t, no=f\n",
    "# gill-attachment (n): adnate=a, adnexed=x, decurrent=d, free=e, sinuate=s, pores=p, none=f, unknown=?\n",
    "# gill-spacing (n): close=c, distant=d, none=f\n",
    "# gill-color (n): see cap-color + none=f\n",
    "# stem-height (m): float number in cm\n",
    "# stem-width (m): float number in mm\n",
    "# stem-root (n): bulbous=b, swollen=s, club=c, cup=u, equal=e, rhizomorphs=z, rooted=r\n",
    "# stem-surface (n): see cap-surface + none=f\n",
    "# stem-color (n): see cap-color + none=f\n",
    "# veil-type (n): partial=p, universal=u\n",
    "# veil-color (n): see cap-color + none=f\n",
    "# has-ring (n): ring=t, none=f\n",
    "# ring-type (n): cobwebby=c, evanescent=e, flaring=r, grooved=g, large=l, pendant=p, sheathing=s, zone=z, scaly=y, movable=m, none=f, unknown=?\n",
    "# spore-print-color (n): see cap color\n",
    "# habitat (n): grasses=g, leaves=l, meadows=m, paths=p, heaths=h, urban=u, waste=w, woods=d\n",
    "# season (n): spring=s, summer=u, autumn=a, winter=w "
   ]
  },
  {
   "cell_type": "code",
   "execution_count": null,
   "id": "cac65b18-49b1-454b-af2f-56c62ebfb41d",
   "metadata": {},
   "outputs": [],
   "source": []
  },
  {
   "cell_type": "code",
   "execution_count": 74,
   "id": "f46dfb03-5938-4459-ab5c-29fe2c3f462a",
   "metadata": {},
   "outputs": [],
   "source": [
    "# Col names  -> PASS!\n",
    "#convert all cols to lower case, and replace spaces and dots with underscores\n",
    "#df.columns = df.columns.str.replace('-','_').str.lower()"
   ]
  },
  {
   "cell_type": "code",
   "execution_count": null,
   "id": "9acf5746-40b5-4e0d-aeb7-d2fa5ee1fdd4",
   "metadata": {},
   "outputs": [],
   "source": []
  },
  {
   "cell_type": "code",
   "execution_count": 75,
   "id": "44da6963-ce4a-432c-89e0-bf749ee0054b",
   "metadata": {},
   "outputs": [],
   "source": [
    "# Feature Variation Cleaning (there is noise!)"
   ]
  },
  {
   "cell_type": "code",
   "execution_count": 76,
   "id": "e1c32169-2776-49fa-a076-4b0e0b778fad",
   "metadata": {},
   "outputs": [],
   "source": [
    "# Step 1: Separate numerical and categorical columns\n",
    "num_cols = train.select_dtypes(include=['float64', 'int64']).columns\n",
    "cat_cols = train.select_dtypes(include=['object']).columns"
   ]
  },
  {
   "cell_type": "code",
   "execution_count": 77,
   "id": "ca50dac5-70d6-4c5c-9829-97c4f80e1be2",
   "metadata": {
    "scrolled": true
   },
   "outputs": [
    {
     "name": "stdout",
     "output_type": "stream",
     "text": [
      "- Distinct values:\n",
      "target                   2\n",
      "cap-shape               75\n",
      "cap-surface             84\n",
      "cap-color               79\n",
      "does-bruise-or-bleed    27\n",
      "gill-attachment         79\n",
      "gill-spacing            49\n",
      "gill-color              64\n",
      "stem-root               39\n",
      "stem-surface            61\n",
      "stem-color              60\n",
      "veil-type               23\n",
      "veil-color              25\n",
      "has-ring                24\n",
      "ring-type               41\n",
      "spore-print-color       33\n",
      "habitat                 53\n",
      "season                   4\n",
      "dtype: int64 \n",
      "\n",
      "- Variations:\n",
      "target                                                                                                               [e, p]\n",
      "cap-shape               [f, x, p, b, o, c, s, d, e, n, nan, w, k, l, 19.29, 5 f, t, g, z, a, 2.85, 7 x, r, u, 3.55, is s...\n",
      "cap-surface             [s, h, y, l, t, e, g, nan, d, i, w, k, 15.94, f, n, r, o, a, u, z, 2.7, does l, 5.07, p, b, m, c...\n",
      "cap-color               [u, o, b, g, w, n, e, y, r, p, k, l, i, h, d, s, a, f, 2.05, season, c, x, 13, 7.72, m, z, 6.76,...\n",
      "does-bruise-or-bleed     [f, t, d, has-ring, w, o, b, x, p, nan, g, y, r, a, l, i, c, n, z, s, k, h, 3.43, e, 4.42, 2.9, u]\n",
      "gill-attachment         [a, x, s, d, e, nan, f, p, l, m, b, 32.54, n, g, i, u, does-bruise-or-bleed, t, o, c, w, 4.64, k...\n",
      "gill-spacing            [c, nan, d, f, x, b, a, 3.61, 2.69, k, 4.8, e, y, class, s, 9.01, p, 3.92, 5.22, 6.67, 4.04, t, ...\n",
      "gill-color              [w, n, g, k, y, f, p, o, b, u, e, r, d, t, 3.45, z, 5, 3.39, season, h, x, s, 4, class, c, m, sp...\n",
      "stem-root               [nan, b, c, r, s, f, 5.59, 2.77, 20.01, y, o, k, d, n, w, u, p, x, i, 10.87, a, 3.63, t, m, l, h...\n",
      "stem-surface            [nan, y, s, t, g, h, k, i, f, l, d, x, 12.04, w, a, o, c, n, m, e, p, z, 6.58, 4.34, b, 3.89, r,...\n",
      "stem-color              [w, o, n, y, e, u, p, f, g, r, k, l, b, 3.13, t, z, a, h, d, nan, s, 7.33, is n, i, c, x, e n, 1...\n",
      "veil-type                              [nan, u, d, a, h, 21.11, g, c, e, y, i, f, is None, t, w, p, b, s, k, r, l, n, 5.94]\n",
      "veil-color                           [nan, n, w, k, y, e, u, p, d, g, r, h, s, 8.25, t, c, o, i, 2.49, f, a, b, l, z, 3.32]\n",
      "has-ring                             [f, t, h, r, y, c, e, g, l, s, nan, p, x, k, z, f has-ring, d, o, n, m, i, 10.3, w, a]\n",
      "ring-type               [f, z, e, nan, p, l, g, r, m, y, h, o, t, ring-type, a, d, s, x, 4, b, 15, u, n, w, does f, 3.12...\n",
      "spore-print-color       [nan, k, w, p, n, r, u, g, t, f, d, l, y, a, s, 2.49, e, o, c, b, 10 None, h, x, 9 None, i, m, v...\n",
      "habitat                 [d, l, g, h, p, m, u, w, y, nan, n, a, s, k, habitat, z, 8.09, 17.1, b, t, c, 9.28, ring-type, e...\n",
      "season                                                                                                         [a, w, u, s]\n",
      "dtype: object \n"
     ]
    }
   ],
   "source": [
    "# Variations of each column\n",
    "print(f\"- Distinct values:\\n{train[cat_cols].apply( lambda x: x.unique().shape[0] ) } \\n\" )\n",
    "print(f\"- Variations:\\n{train[cat_cols].apply( lambda x: x.unique() ) } \" )"
   ]
  },
  {
   "cell_type": "code",
   "execution_count": 78,
   "id": "c2c1d5fe-bcac-42b1-9efb-411f27978904",
   "metadata": {},
   "outputs": [
    {
     "data": {
      "text/plain": [
       "spore-print-color\n",
       "k             107310\n",
       "p              68237\n",
       "w              50173\n",
       "n              22646\n",
       "r               7975\n",
       "u               7256\n",
       "g               3492\n",
       "y                 36\n",
       "s                 21\n",
       "c                 16\n",
       "e                 14\n",
       "f                 14\n",
       "t                 13\n",
       "a                 13\n",
       "d                  9\n",
       "l                  8\n",
       "b                  5\n",
       "m                  4\n",
       "h                  3\n",
       "o                  3\n",
       "x                  2\n",
       "i                  2\n",
       "veil-color         2\n",
       "10 None            1\n",
       "9 None             1\n",
       "2.49               1\n",
       "class              1\n",
       "2.62               1\n",
       "season             1\n",
       "9.55               1\n",
       "6.36               1\n",
       "4.58               1\n",
       "Name: count, dtype: int64"
      ]
     },
     "execution_count": 78,
     "metadata": {},
     "output_type": "execute_result"
    }
   ],
   "source": [
    "# Inspecting cat vars, lok like noise has less than 10 samples per variable. \n",
    "train['spore-print-color'].value_counts()"
   ]
  },
  {
   "cell_type": "code",
   "execution_count": 79,
   "id": "881cac58-7e82-4fb4-94c8-de2c5dbaa603",
   "metadata": {},
   "outputs": [],
   "source": [
    "# Remove variations with few samples (considering noise)"
   ]
  },
  {
   "cell_type": "code",
   "execution_count": 80,
   "id": "da8c60de-bc61-4c2a-96c2-079618c03991",
   "metadata": {},
   "outputs": [],
   "source": [
    "def remove_low_variation_rows(df, columns, thr=10):\n",
    "    \"\"\"\n",
    "    Remove rows from the DataFrame where the variation of the specified features has 10 (n) or fewer samples.\n",
    "    Parameters:\n",
    "    df (pd.DataFrame): The input DataFrame.\n",
    "    columns (list): List of categorical columns to check for variation.\n",
    "    threshold (int): The minimum number of samples required for a category to be retained.  \n",
    "    Returns:\n",
    "    pd.DataFrame: A DataFrame with low variation rows removed.\n",
    "    \"\"\"\n",
    "    for col in columns:\n",
    "        # Count the occurrences of each category\n",
    "        value_counts = df[col].value_counts()\n",
    "        \n",
    "        # Identify categories with counts less than or equal to the threshold\n",
    "        low_variation_categories = value_counts[value_counts <= thr].index\n",
    "        \n",
    "        # Remove rows where the feature value is in the low variation categories\n",
    "        df = df[~df[col].isin(low_variation_categories)]\n",
    "        df.reset_index(drop=True, inplace=True)\n",
    "    \n",
    "    return df"
   ]
  },
  {
   "cell_type": "code",
   "execution_count": 83,
   "id": "6aeced51-28c0-42b6-bd8d-3b8143aeee2d",
   "metadata": {},
   "outputs": [],
   "source": [
    "# Call the function\n",
    "train = remove_low_variation_rows(train, cat_cols, thr=30)"
   ]
  },
  {
   "cell_type": "code",
   "execution_count": 84,
   "id": "a2d574a0-f1e8-46a3-9479-3b3758bb6488",
   "metadata": {},
   "outputs": [
    {
     "data": {
      "text/plain": [
       "(3114426, 21)"
      ]
     },
     "execution_count": 84,
     "metadata": {},
     "output_type": "execute_result"
    }
   ],
   "source": [
    "train.shape"
   ]
  },
  {
   "cell_type": "code",
   "execution_count": 85,
   "id": "3ee3b4ea-17fc-47f6-8939-ff74364695b7",
   "metadata": {},
   "outputs": [],
   "source": [
    "train._is_copy"
   ]
  },
  {
   "cell_type": "code",
   "execution_count": 87,
   "id": "dc06f764-ce8b-4b99-bdda-9b282ad9fea8",
   "metadata": {},
   "outputs": [
    {
     "data": {
      "text/html": [
       "<div>\n",
       "<style scoped>\n",
       "    .dataframe tbody tr th:only-of-type {\n",
       "        vertical-align: middle;\n",
       "    }\n",
       "\n",
       "    .dataframe tbody tr th {\n",
       "        vertical-align: top;\n",
       "    }\n",
       "\n",
       "    .dataframe thead th {\n",
       "        text-align: right;\n",
       "    }\n",
       "</style>\n",
       "<table border=\"1\" class=\"dataframe\">\n",
       "  <thead>\n",
       "    <tr style=\"text-align: right;\">\n",
       "      <th></th>\n",
       "      <th>target</th>\n",
       "      <th>cap-diameter</th>\n",
       "      <th>cap-shape</th>\n",
       "      <th>cap-surface</th>\n",
       "      <th>cap-color</th>\n",
       "      <th>does-bruise-or-bleed</th>\n",
       "      <th>gill-attachment</th>\n",
       "      <th>gill-spacing</th>\n",
       "      <th>gill-color</th>\n",
       "      <th>stem-height</th>\n",
       "      <th>stem-width</th>\n",
       "      <th>stem-root</th>\n",
       "      <th>stem-surface</th>\n",
       "      <th>stem-color</th>\n",
       "      <th>veil-type</th>\n",
       "      <th>veil-color</th>\n",
       "      <th>has-ring</th>\n",
       "      <th>ring-type</th>\n",
       "      <th>spore-print-color</th>\n",
       "      <th>habitat</th>\n",
       "      <th>season</th>\n",
       "    </tr>\n",
       "  </thead>\n",
       "  <tbody>\n",
       "    <tr>\n",
       "      <th>0</th>\n",
       "      <td>e</td>\n",
       "      <td>8.800</td>\n",
       "      <td>f</td>\n",
       "      <td>s</td>\n",
       "      <td>u</td>\n",
       "      <td>f</td>\n",
       "      <td>a</td>\n",
       "      <td>c</td>\n",
       "      <td>w</td>\n",
       "      <td>4.510</td>\n",
       "      <td>15.390</td>\n",
       "      <td>NaN</td>\n",
       "      <td>NaN</td>\n",
       "      <td>w</td>\n",
       "      <td>NaN</td>\n",
       "      <td>NaN</td>\n",
       "      <td>f</td>\n",
       "      <td>f</td>\n",
       "      <td>NaN</td>\n",
       "      <td>d</td>\n",
       "      <td>a</td>\n",
       "    </tr>\n",
       "    <tr>\n",
       "      <th>1</th>\n",
       "      <td>p</td>\n",
       "      <td>4.510</td>\n",
       "      <td>x</td>\n",
       "      <td>h</td>\n",
       "      <td>o</td>\n",
       "      <td>f</td>\n",
       "      <td>a</td>\n",
       "      <td>c</td>\n",
       "      <td>n</td>\n",
       "      <td>4.790</td>\n",
       "      <td>6.480</td>\n",
       "      <td>NaN</td>\n",
       "      <td>y</td>\n",
       "      <td>o</td>\n",
       "      <td>NaN</td>\n",
       "      <td>NaN</td>\n",
       "      <td>t</td>\n",
       "      <td>z</td>\n",
       "      <td>NaN</td>\n",
       "      <td>d</td>\n",
       "      <td>w</td>\n",
       "    </tr>\n",
       "  </tbody>\n",
       "</table>\n",
       "</div>"
      ],
      "text/plain": [
       "  target  cap-diameter cap-shape cap-surface cap-color does-bruise-or-bleed  \\\n",
       "0      e         8.800         f           s         u                    f   \n",
       "1      p         4.510         x           h         o                    f   \n",
       "\n",
       "  gill-attachment gill-spacing gill-color  stem-height  stem-width stem-root  \\\n",
       "0               a            c          w        4.510      15.390       NaN   \n",
       "1               a            c          n        4.790       6.480       NaN   \n",
       "\n",
       "  stem-surface stem-color veil-type veil-color has-ring ring-type  \\\n",
       "0          NaN          w       NaN        NaN        f         f   \n",
       "1            y          o       NaN        NaN        t         z   \n",
       "\n",
       "  spore-print-color habitat season  \n",
       "0               NaN       d      a  \n",
       "1               NaN       d      w  "
      ]
     },
     "execution_count": 87,
     "metadata": {},
     "output_type": "execute_result"
    }
   ],
   "source": [
    "train[:2]"
   ]
  },
  {
   "cell_type": "code",
   "execution_count": 88,
   "id": "2ef403b9-4e3a-48e5-b51e-f37f1ee60c77",
   "metadata": {},
   "outputs": [
    {
     "name": "stdout",
     "output_type": "stream",
     "text": [
      "- Distinct values:\n",
      "target                   2\n",
      "cap-shape               16\n",
      "cap-surface             22\n",
      "cap-color               16\n",
      "does-bruise-or-bleed     3\n",
      "gill-attachment         13\n",
      "gill-spacing             4\n",
      "gill-color              19\n",
      "stem-root                6\n",
      "stem-surface            13\n",
      "stem-color              17\n",
      "veil-type                2\n",
      "veil-color               7\n",
      "has-ring                 3\n",
      "ring-type               13\n",
      "spore-print-color        9\n",
      "habitat                 17\n",
      "season                   4\n",
      "dtype: int64 \n",
      "\n",
      "- Variations:\n",
      "target                                                                                [e, p]\n",
      "cap-shape                                 [f, x, p, b, o, c, s, d, e, n, nan, w, t, g, r, y]\n",
      "cap-surface             [s, h, y, l, t, e, g, nan, d, i, w, k, f, n, r, o, a, u, p, m, x, c]\n",
      "cap-color                                 [u, o, b, g, w, n, e, y, r, p, k, l, d, s, f, nan]\n",
      "does-bruise-or-bleed                                                             [f, t, nan]\n",
      "gill-attachment                                    [a, x, s, d, e, nan, f, p, u, t, c, w, k]\n",
      "gill-spacing                                                                  [c, nan, d, f]\n",
      "gill-color                       [w, n, g, k, y, f, p, o, b, u, e, r, d, t, x, s, c, nan, l]\n",
      "stem-root                                                               [nan, b, c, r, s, f]\n",
      "stem-surface                                       [nan, y, s, t, g, h, k, i, f, d, w, n, e]\n",
      "stem-color                             [w, o, n, y, e, u, p, f, g, r, k, l, b, t, a, nan, s]\n",
      "veil-type                                                                           [nan, u]\n",
      "veil-color                                                           [nan, n, w, k, y, e, u]\n",
      "has-ring                                                                         [f, t, nan]\n",
      "ring-type                                          [f, z, e, nan, p, l, g, r, m, t, d, x, n]\n",
      "spore-print-color                                              [nan, k, w, p, n, r, u, g, y]\n",
      "habitat                                [d, l, g, h, p, m, u, w, y, nan, n, a, s, k, t, e, r]\n",
      "season                                                                          [a, w, u, s]\n",
      "dtype: object \n"
     ]
    }
   ],
   "source": [
    "#variations of each column\n",
    "print(f\"- Distinct values:\\n{train[cat_cols].apply( lambda x: x.unique().shape[0] ) } \\n\" )\n",
    "print(f\"- Variations:\\n{train[cat_cols].apply( lambda x: x.unique() ) } \" )"
   ]
  },
  {
   "cell_type": "code",
   "execution_count": 89,
   "id": "1bfa0232-ee39-41a5-9907-a3b11472e667",
   "metadata": {},
   "outputs": [],
   "source": [
    "#Looks ok now! \n",
    "#There is a chance of some variation be on test, that is not on train, but since we have 3MI + data, it may not have impact. "
   ]
  },
  {
   "cell_type": "code",
   "execution_count": null,
   "id": "d4aed18e-e511-4d81-968d-b0d20af0d521",
   "metadata": {},
   "outputs": [],
   "source": []
  },
  {
   "cell_type": "code",
   "execution_count": 90,
   "id": "517dc4b3-6554-4989-9d96-1e54e2977f9f",
   "metadata": {},
   "outputs": [],
   "source": [
    "#train_bk = train.copy()\n",
    "#train = train_bk.copy()"
   ]
  },
  {
   "cell_type": "code",
   "execution_count": null,
   "id": "0cdf22df-e219-4f2a-9efa-e2d6c3874f93",
   "metadata": {},
   "outputs": [],
   "source": []
  },
  {
   "cell_type": "code",
   "execution_count": 91,
   "id": "dd78c745-8849-4e57-9334-a5bc6343d270",
   "metadata": {},
   "outputs": [],
   "source": [
    "# NAs"
   ]
  },
  {
   "cell_type": "code",
   "execution_count": 92,
   "id": "5f20f466-5476-4344-8275-ce3e65ad521c",
   "metadata": {
    "scrolled": true
   },
   "outputs": [
    {
     "data": {
      "text/plain": [
       "target                        0\n",
       "stem-height                   0\n",
       "stem-width                    0\n",
       "season                        0\n",
       "cap-diameter                  4\n",
       "does-bruise-or-bleed          8\n",
       "cap-color                    12\n",
       "has-ring                     24\n",
       "stem-color                   37\n",
       "cap-shape                    40\n",
       "habitat                      45\n",
       "gill-color                   56\n",
       "ring-type                128783\n",
       "gill-attachment          523619\n",
       "cap-surface              670573\n",
       "gill-spacing            1257452\n",
       "stem-surface            1979497\n",
       "veil-color              2738962\n",
       "stem-root               2755034\n",
       "spore-print-color       2847554\n",
       "veil-type               2955240\n",
       "dtype: int64"
      ]
     },
     "execution_count": 92,
     "metadata": {},
     "output_type": "execute_result"
    }
   ],
   "source": [
    "## Missings\n",
    "train.isna().sum().sort_values()"
   ]
  },
  {
   "cell_type": "code",
   "execution_count": 93,
   "id": "dd315b1c-d258-4509-ae7d-fbf3ce0f0db8",
   "metadata": {},
   "outputs": [],
   "source": [
    "#df.dropna() #drops hole dataset!"
   ]
  },
  {
   "cell_type": "code",
   "execution_count": 94,
   "id": "da505e38-9cef-4061-acce-f1246484ca09",
   "metadata": {},
   "outputs": [
    {
     "data": {
      "text/plain": [
       "(3114426, 21)"
      ]
     },
     "execution_count": 94,
     "metadata": {},
     "output_type": "execute_result"
    }
   ],
   "source": [
    "train.shape"
   ]
  },
  {
   "cell_type": "code",
   "execution_count": 95,
   "id": "de0a13a1-9b8d-4fb0-869f-66274b6996e4",
   "metadata": {},
   "outputs": [],
   "source": [
    "# Step 1: Impute missing values in numerical columns using KNNImputer\n",
    "imputer = KNNImputer(n_neighbors=5)\n",
    "df_numerical_imputed = pd.DataFrame(imputer.fit_transform(train[num_cols]), columns=num_cols)"
   ]
  },
  {
   "cell_type": "code",
   "execution_count": 102,
   "id": "51f86307-9bd9-448a-8d12-ed553a33cf79",
   "metadata": {},
   "outputs": [],
   "source": [
    "# Step 2: Handle missing values in categorical columns\n",
    "# Option 1: Fill with some statistic: used MODE\n",
    "for col in cat_cols:\n",
    "    mode_value = train[col].mode()[0]  # Get the mode\n",
    "    train.loc[:, col] = train[col].fillna(mode_value)  # Assign the filled values back to the DataFrame"
   ]
  },
  {
   "cell_type": "code",
   "execution_count": 103,
   "id": "1c532180-421d-4b58-84f9-10f025036ce7",
   "metadata": {},
   "outputs": [],
   "source": [
    "# Step 3: Combine the imputed numerical DataFrame with the categorical DataFrame\n",
    "train = pd.concat([df_numerical_imputed, train[cat_cols]], axis=1).copy()"
   ]
  },
  {
   "cell_type": "code",
   "execution_count": 110,
   "id": "d84ab1f6-117e-4ffa-b8a5-ae3461ef49da",
   "metadata": {},
   "outputs": [
    {
     "data": {
      "text/html": [
       "<div>\n",
       "<style scoped>\n",
       "    .dataframe tbody tr th:only-of-type {\n",
       "        vertical-align: middle;\n",
       "    }\n",
       "\n",
       "    .dataframe tbody tr th {\n",
       "        vertical-align: top;\n",
       "    }\n",
       "\n",
       "    .dataframe thead th {\n",
       "        text-align: right;\n",
       "    }\n",
       "</style>\n",
       "<table border=\"1\" class=\"dataframe\">\n",
       "  <thead>\n",
       "    <tr style=\"text-align: right;\">\n",
       "      <th></th>\n",
       "      <th>cap-diameter</th>\n",
       "      <th>stem-height</th>\n",
       "      <th>stem-width</th>\n",
       "      <th>target</th>\n",
       "      <th>cap-shape</th>\n",
       "      <th>cap-surface</th>\n",
       "      <th>cap-color</th>\n",
       "      <th>does-bruise-or-bleed</th>\n",
       "      <th>gill-attachment</th>\n",
       "      <th>gill-spacing</th>\n",
       "      <th>gill-color</th>\n",
       "      <th>stem-root</th>\n",
       "      <th>stem-surface</th>\n",
       "      <th>stem-color</th>\n",
       "      <th>veil-type</th>\n",
       "      <th>veil-color</th>\n",
       "      <th>has-ring</th>\n",
       "      <th>ring-type</th>\n",
       "      <th>spore-print-color</th>\n",
       "      <th>habitat</th>\n",
       "      <th>season</th>\n",
       "    </tr>\n",
       "  </thead>\n",
       "  <tbody>\n",
       "    <tr>\n",
       "      <th>0</th>\n",
       "      <td>8.800</td>\n",
       "      <td>4.510</td>\n",
       "      <td>15.390</td>\n",
       "      <td>e</td>\n",
       "      <td>f</td>\n",
       "      <td>s</td>\n",
       "      <td>u</td>\n",
       "      <td>f</td>\n",
       "      <td>a</td>\n",
       "      <td>c</td>\n",
       "      <td>w</td>\n",
       "      <td>b</td>\n",
       "      <td>s</td>\n",
       "      <td>w</td>\n",
       "      <td>u</td>\n",
       "      <td>w</td>\n",
       "      <td>f</td>\n",
       "      <td>f</td>\n",
       "      <td>k</td>\n",
       "      <td>d</td>\n",
       "      <td>a</td>\n",
       "    </tr>\n",
       "    <tr>\n",
       "      <th>1</th>\n",
       "      <td>4.510</td>\n",
       "      <td>4.790</td>\n",
       "      <td>6.480</td>\n",
       "      <td>p</td>\n",
       "      <td>x</td>\n",
       "      <td>h</td>\n",
       "      <td>o</td>\n",
       "      <td>f</td>\n",
       "      <td>a</td>\n",
       "      <td>c</td>\n",
       "      <td>n</td>\n",
       "      <td>b</td>\n",
       "      <td>y</td>\n",
       "      <td>o</td>\n",
       "      <td>u</td>\n",
       "      <td>w</td>\n",
       "      <td>t</td>\n",
       "      <td>z</td>\n",
       "      <td>k</td>\n",
       "      <td>d</td>\n",
       "      <td>w</td>\n",
       "    </tr>\n",
       "  </tbody>\n",
       "</table>\n",
       "</div>"
      ],
      "text/plain": [
       "   cap-diameter  stem-height  stem-width target cap-shape cap-surface  \\\n",
       "0         8.800        4.510      15.390      e         f           s   \n",
       "1         4.510        4.790       6.480      p         x           h   \n",
       "\n",
       "  cap-color does-bruise-or-bleed gill-attachment gill-spacing gill-color  \\\n",
       "0         u                    f               a            c          w   \n",
       "1         o                    f               a            c          n   \n",
       "\n",
       "  stem-root stem-surface stem-color veil-type veil-color has-ring ring-type  \\\n",
       "0         b            s          w         u          w        f         f   \n",
       "1         b            y          o         u          w        t         z   \n",
       "\n",
       "  spore-print-color habitat season  \n",
       "0                 k       d      a  \n",
       "1                 k       d      w  "
      ]
     },
     "execution_count": 110,
     "metadata": {},
     "output_type": "execute_result"
    }
   ],
   "source": [
    "train[:2]"
   ]
  },
  {
   "cell_type": "code",
   "execution_count": 111,
   "id": "932b47b6-b8d9-43b9-9c92-2affd08990d2",
   "metadata": {},
   "outputs": [],
   "source": [
    "#Reorder cols with target in the end: \n",
    "# Identify the target and Reorder columns to move the target variable to the last position\n",
    "cols = [col for col in train.columns if col != 'target']  # All columns except the target\n",
    "cols.append('target')  # Add the target variable to the end\n",
    "train = train[cols].copy()"
   ]
  },
  {
   "cell_type": "code",
   "execution_count": 112,
   "id": "8b21f917-9c06-4a42-a5f8-e2723e3ca2e5",
   "metadata": {},
   "outputs": [],
   "source": [
    "train._is_copy"
   ]
  },
  {
   "cell_type": "code",
   "execution_count": 113,
   "id": "35f49383-f27a-4bda-a258-ed9b05aefada",
   "metadata": {},
   "outputs": [
    {
     "data": {
      "text/html": [
       "<div>\n",
       "<style scoped>\n",
       "    .dataframe tbody tr th:only-of-type {\n",
       "        vertical-align: middle;\n",
       "    }\n",
       "\n",
       "    .dataframe tbody tr th {\n",
       "        vertical-align: top;\n",
       "    }\n",
       "\n",
       "    .dataframe thead th {\n",
       "        text-align: right;\n",
       "    }\n",
       "</style>\n",
       "<table border=\"1\" class=\"dataframe\">\n",
       "  <thead>\n",
       "    <tr style=\"text-align: right;\">\n",
       "      <th></th>\n",
       "      <th>cap-diameter</th>\n",
       "      <th>stem-height</th>\n",
       "      <th>stem-width</th>\n",
       "      <th>cap-shape</th>\n",
       "      <th>cap-surface</th>\n",
       "      <th>cap-color</th>\n",
       "      <th>does-bruise-or-bleed</th>\n",
       "      <th>gill-attachment</th>\n",
       "      <th>gill-spacing</th>\n",
       "      <th>gill-color</th>\n",
       "      <th>stem-root</th>\n",
       "      <th>stem-surface</th>\n",
       "      <th>stem-color</th>\n",
       "      <th>veil-type</th>\n",
       "      <th>veil-color</th>\n",
       "      <th>has-ring</th>\n",
       "      <th>ring-type</th>\n",
       "      <th>spore-print-color</th>\n",
       "      <th>habitat</th>\n",
       "      <th>season</th>\n",
       "      <th>target</th>\n",
       "    </tr>\n",
       "  </thead>\n",
       "  <tbody>\n",
       "    <tr>\n",
       "      <th>0</th>\n",
       "      <td>8.800</td>\n",
       "      <td>4.510</td>\n",
       "      <td>15.390</td>\n",
       "      <td>f</td>\n",
       "      <td>s</td>\n",
       "      <td>u</td>\n",
       "      <td>f</td>\n",
       "      <td>a</td>\n",
       "      <td>c</td>\n",
       "      <td>w</td>\n",
       "      <td>b</td>\n",
       "      <td>s</td>\n",
       "      <td>w</td>\n",
       "      <td>u</td>\n",
       "      <td>w</td>\n",
       "      <td>f</td>\n",
       "      <td>f</td>\n",
       "      <td>k</td>\n",
       "      <td>d</td>\n",
       "      <td>a</td>\n",
       "      <td>e</td>\n",
       "    </tr>\n",
       "    <tr>\n",
       "      <th>1</th>\n",
       "      <td>4.510</td>\n",
       "      <td>4.790</td>\n",
       "      <td>6.480</td>\n",
       "      <td>x</td>\n",
       "      <td>h</td>\n",
       "      <td>o</td>\n",
       "      <td>f</td>\n",
       "      <td>a</td>\n",
       "      <td>c</td>\n",
       "      <td>n</td>\n",
       "      <td>b</td>\n",
       "      <td>y</td>\n",
       "      <td>o</td>\n",
       "      <td>u</td>\n",
       "      <td>w</td>\n",
       "      <td>t</td>\n",
       "      <td>z</td>\n",
       "      <td>k</td>\n",
       "      <td>d</td>\n",
       "      <td>w</td>\n",
       "      <td>p</td>\n",
       "    </tr>\n",
       "  </tbody>\n",
       "</table>\n",
       "</div>"
      ],
      "text/plain": [
       "   cap-diameter  stem-height  stem-width cap-shape cap-surface cap-color  \\\n",
       "0         8.800        4.510      15.390         f           s         u   \n",
       "1         4.510        4.790       6.480         x           h         o   \n",
       "\n",
       "  does-bruise-or-bleed gill-attachment gill-spacing gill-color stem-root  \\\n",
       "0                    f               a            c          w         b   \n",
       "1                    f               a            c          n         b   \n",
       "\n",
       "  stem-surface stem-color veil-type veil-color has-ring ring-type  \\\n",
       "0            s          w         u          w        f         f   \n",
       "1            y          o         u          w        t         z   \n",
       "\n",
       "  spore-print-color habitat season target  \n",
       "0                 k       d      a      e  \n",
       "1                 k       d      w      p  "
      ]
     },
     "execution_count": 113,
     "metadata": {},
     "output_type": "execute_result"
    }
   ],
   "source": [
    "train[:2]"
   ]
  },
  {
   "cell_type": "code",
   "execution_count": 114,
   "id": "45e88232-98e5-4fa6-aa31-cf146efa663d",
   "metadata": {},
   "outputs": [
    {
     "data": {
      "text/plain": [
       "cap-diameter            0\n",
       "habitat                 0\n",
       "spore-print-color       0\n",
       "ring-type               0\n",
       "has-ring                0\n",
       "veil-color              0\n",
       "veil-type               0\n",
       "stem-color              0\n",
       "stem-surface            0\n",
       "season                  0\n",
       "stem-root               0\n",
       "gill-spacing            0\n",
       "gill-attachment         0\n",
       "does-bruise-or-bleed    0\n",
       "cap-color               0\n",
       "cap-surface             0\n",
       "cap-shape               0\n",
       "stem-width              0\n",
       "stem-height             0\n",
       "gill-color              0\n",
       "target                  0\n",
       "dtype: int64"
      ]
     },
     "execution_count": 114,
     "metadata": {},
     "output_type": "execute_result"
    }
   ],
   "source": [
    "# Check\n",
    "train.isna().sum().sort_values()"
   ]
  },
  {
   "cell_type": "code",
   "execution_count": 115,
   "id": "898a0835-b053-4ddc-bd6c-1e85daa69615",
   "metadata": {},
   "outputs": [],
   "source": [
    "#done!"
   ]
  },
  {
   "cell_type": "code",
   "execution_count": null,
   "id": "9303243f-94d2-4b1e-b671-494e02dc0574",
   "metadata": {},
   "outputs": [],
   "source": []
  },
  {
   "cell_type": "code",
   "execution_count": 116,
   "id": "6a8988c9-d39e-4bd1-8349-486d0c996484",
   "metadata": {},
   "outputs": [
    {
     "data": {
      "text/plain": [
       "cap-diameter            float64\n",
       "stem-height             float64\n",
       "stem-width              float64\n",
       "cap-shape                object\n",
       "cap-surface              object\n",
       "cap-color                object\n",
       "does-bruise-or-bleed     object\n",
       "gill-attachment          object\n",
       "gill-spacing             object\n",
       "gill-color               object\n",
       "stem-root                object\n",
       "stem-surface             object\n",
       "stem-color               object\n",
       "veil-type                object\n",
       "veil-color               object\n",
       "has-ring                 object\n",
       "ring-type                object\n",
       "spore-print-color        object\n",
       "habitat                  object\n",
       "season                   object\n",
       "target                   object\n",
       "dtype: object"
      ]
     },
     "execution_count": 116,
     "metadata": {},
     "output_type": "execute_result"
    }
   ],
   "source": [
    "#Dtypes\n",
    "train.dtypes"
   ]
  },
  {
   "cell_type": "code",
   "execution_count": 117,
   "id": "fd4c8d45-f1bd-4284-aad3-a0df3ab92c64",
   "metadata": {},
   "outputs": [
    {
     "data": {
      "text/plain": [
       "target\n",
       "p    1703904\n",
       "e    1410522\n",
       "Name: count, dtype: int64"
      ]
     },
     "execution_count": 117,
     "metadata": {},
     "output_type": "execute_result"
    }
   ],
   "source": [
    "# string -> keep object \n",
    "# numeric -> are already float\n",
    "\n",
    "# parse target to numeric:\n",
    "train.target.value_counts()"
   ]
  },
  {
   "cell_type": "code",
   "execution_count": 118,
   "id": "b8df038c-6c4d-4da7-beea-02d0bea0dad5",
   "metadata": {},
   "outputs": [],
   "source": [
    "#poisonous = 1, eatable = 0\n",
    "train.target = train.target.apply(lambda x: 1 if x == 'p' else 0)"
   ]
  },
  {
   "cell_type": "code",
   "execution_count": 119,
   "id": "ee7c3294-d2f8-4b80-89cb-bd6c53174214",
   "metadata": {},
   "outputs": [
    {
     "data": {
      "text/plain": [
       "target\n",
       "1    1703904\n",
       "0    1410522\n",
       "Name: count, dtype: int64"
      ]
     },
     "execution_count": 119,
     "metadata": {},
     "output_type": "execute_result"
    }
   ],
   "source": [
    "train.target.value_counts()"
   ]
  },
  {
   "cell_type": "code",
   "execution_count": 120,
   "id": "4e826c08-43e1-4c7d-81b3-a9ebb3afc36b",
   "metadata": {},
   "outputs": [],
   "source": [
    "train.target = train.target.astype(int)"
   ]
  },
  {
   "cell_type": "code",
   "execution_count": 121,
   "id": "d94d58f0-b975-4191-b923-3d2277dafc66",
   "metadata": {},
   "outputs": [
    {
     "data": {
      "text/plain": [
       "cap-diameter            float64\n",
       "stem-height             float64\n",
       "stem-width              float64\n",
       "cap-shape                object\n",
       "cap-surface              object\n",
       "cap-color                object\n",
       "does-bruise-or-bleed     object\n",
       "gill-attachment          object\n",
       "gill-spacing             object\n",
       "gill-color               object\n",
       "stem-root                object\n",
       "stem-surface             object\n",
       "stem-color               object\n",
       "veil-type                object\n",
       "veil-color               object\n",
       "has-ring                 object\n",
       "ring-type                object\n",
       "spore-print-color        object\n",
       "habitat                  object\n",
       "season                   object\n",
       "target                    int32\n",
       "dtype: object"
      ]
     },
     "execution_count": 121,
     "metadata": {},
     "output_type": "execute_result"
    }
   ],
   "source": [
    "train.dtypes"
   ]
  },
  {
   "cell_type": "code",
   "execution_count": 122,
   "id": "69c4a9d9-dfa1-48a0-a0f6-566ceeeba2bc",
   "metadata": {},
   "outputs": [],
   "source": [
    "#Ok!"
   ]
  },
  {
   "cell_type": "markdown",
   "id": "4d78dc4a-39ba-4e39-b615-bf7bc4b5f18b",
   "metadata": {
    "jp-MarkdownHeadingCollapsed": true
   },
   "source": [
    "# Checkpoint 1"
   ]
  },
  {
   "cell_type": "code",
   "execution_count": 123,
   "id": "67e75d3e-86c7-4cbc-b4e9-669a450ef58b",
   "metadata": {},
   "outputs": [],
   "source": [
    "train.to_parquet('..\\\\dt\\\\v1\\\\train_clean.parquet', )"
   ]
  },
  {
   "cell_type": "code",
   "execution_count": 124,
   "id": "eaa7afc5-a436-4223-b416-0008d32827c4",
   "metadata": {},
   "outputs": [
    {
     "name": "stdout",
     "output_type": "stream",
     "text": [
      "(3114426, 21)\n"
     ]
    },
    {
     "data": {
      "text/html": [
       "<div>\n",
       "<style scoped>\n",
       "    .dataframe tbody tr th:only-of-type {\n",
       "        vertical-align: middle;\n",
       "    }\n",
       "\n",
       "    .dataframe tbody tr th {\n",
       "        vertical-align: top;\n",
       "    }\n",
       "\n",
       "    .dataframe thead th {\n",
       "        text-align: right;\n",
       "    }\n",
       "</style>\n",
       "<table border=\"1\" class=\"dataframe\">\n",
       "  <thead>\n",
       "    <tr style=\"text-align: right;\">\n",
       "      <th></th>\n",
       "      <th>cap-diameter</th>\n",
       "      <th>stem-height</th>\n",
       "      <th>stem-width</th>\n",
       "      <th>cap-shape</th>\n",
       "      <th>cap-surface</th>\n",
       "      <th>cap-color</th>\n",
       "      <th>does-bruise-or-bleed</th>\n",
       "      <th>gill-attachment</th>\n",
       "      <th>gill-spacing</th>\n",
       "      <th>gill-color</th>\n",
       "      <th>stem-root</th>\n",
       "      <th>stem-surface</th>\n",
       "      <th>stem-color</th>\n",
       "      <th>veil-type</th>\n",
       "      <th>veil-color</th>\n",
       "      <th>has-ring</th>\n",
       "      <th>ring-type</th>\n",
       "      <th>spore-print-color</th>\n",
       "      <th>habitat</th>\n",
       "      <th>season</th>\n",
       "      <th>target</th>\n",
       "    </tr>\n",
       "  </thead>\n",
       "  <tbody>\n",
       "    <tr>\n",
       "      <th>0</th>\n",
       "      <td>8.800</td>\n",
       "      <td>4.510</td>\n",
       "      <td>15.390</td>\n",
       "      <td>f</td>\n",
       "      <td>s</td>\n",
       "      <td>u</td>\n",
       "      <td>f</td>\n",
       "      <td>a</td>\n",
       "      <td>c</td>\n",
       "      <td>w</td>\n",
       "      <td>b</td>\n",
       "      <td>s</td>\n",
       "      <td>w</td>\n",
       "      <td>u</td>\n",
       "      <td>w</td>\n",
       "      <td>f</td>\n",
       "      <td>f</td>\n",
       "      <td>k</td>\n",
       "      <td>d</td>\n",
       "      <td>a</td>\n",
       "      <td>0</td>\n",
       "    </tr>\n",
       "    <tr>\n",
       "      <th>1</th>\n",
       "      <td>4.510</td>\n",
       "      <td>4.790</td>\n",
       "      <td>6.480</td>\n",
       "      <td>x</td>\n",
       "      <td>h</td>\n",
       "      <td>o</td>\n",
       "      <td>f</td>\n",
       "      <td>a</td>\n",
       "      <td>c</td>\n",
       "      <td>n</td>\n",
       "      <td>b</td>\n",
       "      <td>y</td>\n",
       "      <td>o</td>\n",
       "      <td>u</td>\n",
       "      <td>w</td>\n",
       "      <td>t</td>\n",
       "      <td>z</td>\n",
       "      <td>k</td>\n",
       "      <td>d</td>\n",
       "      <td>w</td>\n",
       "      <td>1</td>\n",
       "    </tr>\n",
       "  </tbody>\n",
       "</table>\n",
       "</div>"
      ],
      "text/plain": [
       "   cap-diameter  stem-height  stem-width cap-shape cap-surface cap-color  \\\n",
       "0         8.800        4.510      15.390         f           s         u   \n",
       "1         4.510        4.790       6.480         x           h         o   \n",
       "\n",
       "  does-bruise-or-bleed gill-attachment gill-spacing gill-color stem-root  \\\n",
       "0                    f               a            c          w         b   \n",
       "1                    f               a            c          n         b   \n",
       "\n",
       "  stem-surface stem-color veil-type veil-color has-ring ring-type  \\\n",
       "0            s          w         u          w        f         f   \n",
       "1            y          o         u          w        t         z   \n",
       "\n",
       "  spore-print-color habitat season  target  \n",
       "0                 k       d      a       0  \n",
       "1                 k       d      w       1  "
      ]
     },
     "execution_count": 124,
     "metadata": {},
     "output_type": "execute_result"
    }
   ],
   "source": [
    "train = pd.read_parquet( '..\\\\dt\\\\v1\\\\train_clean.parquet')\n",
    "print(train.shape)\n",
    "train[:2]"
   ]
  },
  {
   "cell_type": "markdown",
   "id": "c225e702-306f-44ba-b35a-62028bae7c87",
   "metadata": {
    "jp-MarkdownHeadingCollapsed": true
   },
   "source": [
    "# EDA"
   ]
  },
  {
   "cell_type": "code",
   "execution_count": 125,
   "id": "545ced12-bd9b-4f95-88f6-2bdb97e7f336",
   "metadata": {},
   "outputs": [],
   "source": [
    "# Distribution of num cols"
   ]
  },
  {
   "cell_type": "code",
   "execution_count": 126,
   "id": "a5f15f22-9408-456b-aeaa-5c94a82968f1",
   "metadata": {},
   "outputs": [
    {
     "data": {
      "text/plain": [
       "Index(['cap-diameter', 'stem-height', 'stem-width'], dtype='object')"
      ]
     },
     "execution_count": 126,
     "metadata": {},
     "output_type": "execute_result"
    }
   ],
   "source": [
    "num_cols"
   ]
  },
  {
   "cell_type": "code",
   "execution_count": 127,
   "id": "d4df379e-059d-4a03-9e76-656cd83f96ea",
   "metadata": {},
   "outputs": [
    {
     "data": {
      "image/png": "[encoded data removed]",
      "text/plain": [
       "<Figure size 1600x700 with 4 Axes>"
      ]
     },
     "metadata": {},
     "output_type": "display_data"
    }
   ],
   "source": [
    "# Set the style for seaborn\n",
    "sns.set(style=\"darkgrid\")\n",
    "\n",
    "# Create subplots\n",
    "fig, axs = plt.subplots(2, 2, figsize=(16, 7)) \n",
    "fig.suptitle(\"Features Distributions\", fontsize=16)\n",
    "\n",
    "# Loop through the columns and create histograms\n",
    "for ax, col in zip(axs.flatten(), train[num_cols]):\n",
    "    sns.histplot(train[col], ax=ax, bins=50, kde=True, color=sns.color_palette(\"Dark2\")[0])  # Add KDE for smoothness\n",
    "    ax.set_title(col, fontsize=12)\n",
    "    ax.set_xlabel(col, fontsize=10)\n",
    "    ax.set_ylabel('Frequency', fontsize=10)\n",
    "    ax.grid(True)  # Add grid lines for better readability\n",
    "\n",
    "# Adjust layout\n",
    "fig.tight_layout()  \n",
    "fig.subplots_adjust(top=0.9)  \n",
    "plt.show()"
   ]
  },
  {
   "cell_type": "code",
   "execution_count": 128,
   "id": "feedd3c2-5441-49f1-8b66-a8e1f3c61bcf",
   "metadata": {},
   "outputs": [],
   "source": [
    "# meanings:\n",
    "\n",
    "# cap-diameter (m): float number in cm\n",
    "# stem-height (m): float number in cm\n",
    "# stem-width (m): float number in mm"
   ]
  },
  {
   "cell_type": "code",
   "execution_count": null,
   "id": "07536b72-487c-4779-98ac-1d428bd3e9d4",
   "metadata": {},
   "outputs": [],
   "source": []
  },
  {
   "cell_type": "code",
   "execution_count": 129,
   "id": "b3390b78-521a-41ed-ae27-bcdeba8db2e0",
   "metadata": {},
   "outputs": [],
   "source": [
    "# Distribution of cat cols"
   ]
  },
  {
   "cell_type": "code",
   "execution_count": 130,
   "id": "2b4ba730-7815-4cb6-9868-d4ab99d1a31d",
   "metadata": {},
   "outputs": [
    {
     "data": {
      "image/png": "[encoded data removed]",
      "text/plain": [
       "<Figure size 1800x4500 with 18 Axes>"
      ]
     },
     "metadata": {},
     "output_type": "display_data"
    }
   ],
   "source": [
    "# Set the style for seaborn\n",
    "sns.set(style=\"darkgrid\")  # You can choose other styles like \"darkgrid\", \"ticks\", etc.\n",
    "\n",
    "num_cols = 2\n",
    "num_rows = (len(cat_cols) + num_cols - 1) // num_cols  # Calculate number of rows needed\n",
    "\n",
    "plt.figure(figsize=(18, num_rows * 5))  # Adjust height based on number of rows\n",
    "\n",
    "# Loop through each categorical column and create a bar plot\n",
    "for i, col in enumerate(cat_cols):\n",
    "    plt.subplot(num_rows, num_cols, i + 1)  # Create a subplot for each column\n",
    "    sns.countplot(data=train, x=col, color=sns.color_palette(\"Dark2\")[0])  # Create a count plot with specified color\n",
    "    plt.title(f'Distribution of {col}', fontsize=14)  # Set the title with larger font size\n",
    "    plt.xlabel(col, fontsize=12)  # Set x-axis label\n",
    "    plt.ylabel('Count', fontsize=12)  # Set y-axis label\n",
    "    plt.xticks(rotation=90, fontsize=10)  # Rotate x labels for better readability\n",
    "    sns.despine()  # Remove the top and right spines for a cleaner look\n",
    "\n",
    "plt.tight_layout()  # Adjust layout to prevent overlap\n",
    "plt.show()  # Display the plots"
   ]
  },
  {
   "cell_type": "code",
   "execution_count": null,
   "id": "b9e84440-f950-4751-af49-42ee248ada18",
   "metadata": {},
   "outputs": [],
   "source": [
    "#meanings:\n",
    "\n",
    "# target: poisonous(p), eatable(e) \n",
    "# cap-shape (n): bell=b, conical=c, convex=x, flat=f, sunken=s, spherical=p, others=o\n",
    "# cap-surface (n): fibrous=i, grooves=g, scaly=y, smooth=s, shiny=h, leathery=l, silky=k, sticky=t, wrinkled=w, fleshy=e\n",
    "# cap-color (n): brown=n, buff=b, gray=g, green=r, pink=p, purple=u, red=e, white=w, yellow=y, blue=l, orange=o, black=k\n",
    "# does-bruise-or-bleed (n): bruises-or-bleeding=t, no=f\n",
    "# gill-attachment (n): adnate=a, adnexed=x, decurrent=d, free=e, sinuate=s, pores=p, none=f, unknown=?\n",
    "# gill-spacing (n): close=c, distant=d, none=f\n",
    "# gill-color (n): see cap-color + none=f\n",
    "# stem-root (n): bulbous=b, swollen=s, club=c, cup=u, equal=e, rhizomorphs=z, rooted=r\n",
    "# stem-surface (n): see cap-surface + none=f\n",
    "# stem-color (n): see cap-color + none=f\n",
    "# veil-type (n): partial=p, universal=u\n",
    "# veil-color (n): see cap-color + none=f\n",
    "# has-ring (n): ring=t, none=f\n",
    "# ring-type (n): cobwebby=c, evanescent=e, flaring=r, grooved=g, large=l, pendant=p, sheathing=s, zone=z, scaly=y, movable=m, none=f, unknown=?\n",
    "# spore-print-color (n): see cap color\n",
    "# habitat (n): grasses=g, leaves=l, meadows=m, paths=p, heaths=h, urban=u, waste=w, woods=d\n",
    "# season (n): spring=s, summer=u, autumn=a, winter=w "
   ]
  },
  {
   "cell_type": "code",
   "execution_count": 131,
   "id": "47f32b97-26cd-4a8d-8eb4-53bc701ec72c",
   "metadata": {},
   "outputs": [],
   "source": [
    "#Better now, but still we see lots of classes with few data. Keep going right now!"
   ]
  },
  {
   "cell_type": "markdown",
   "id": "38627ab9-d95a-4d18-b849-47bee251e82c",
   "metadata": {
    "jp-MarkdownHeadingCollapsed": true
   },
   "source": [
    "# Dataset Split"
   ]
  },
  {
   "cell_type": "code",
   "execution_count": 132,
   "id": "adac29a7-888c-4021-89e0-453630ada125",
   "metadata": {},
   "outputs": [],
   "source": [
    "X = train.drop(columns=\"target\") \n",
    "y = train.target"
   ]
  },
  {
   "cell_type": "code",
   "execution_count": 133,
   "id": "3c5ba463-8eb0-4d24-859b-d8b137dcf71c",
   "metadata": {},
   "outputs": [],
   "source": [
    "#split between train (80%) and test (20%)\n",
    "X_train, X_test, y_train, y_test = train_test_split(X, y, random_state = 98, stratify = y, test_size = 0.20) #stratify by y"
   ]
  },
  {
   "cell_type": "code",
   "execution_count": 134,
   "id": "7e257bcc-0d82-4d92-ac13-09038e54f38c",
   "metadata": {},
   "outputs": [
    {
     "name": "stdout",
     "output_type": "stream",
     "text": [
      "X_train ->  (2491540, 20)\n",
      "y_train ->  (2491540,)\n",
      "X_test ->  (622886, 20)\n",
      "y_test ->  (622886,)\n"
     ]
    }
   ],
   "source": [
    "# train data\n",
    "print('X_train -> ',X_train.shape)\n",
    "print('y_train -> ',y_train.shape)\n",
    "# test data\n",
    "print('X_test -> ',X_test.shape)\n",
    "print('y_test -> ',y_test.shape)"
   ]
  },
  {
   "cell_type": "markdown",
   "id": "b9c53b9f-4664-49df-b68d-304cba48e784",
   "metadata": {},
   "source": [
    "# ML"
   ]
  },
  {
   "cell_type": "code",
   "execution_count": 135,
   "id": "1bc622b2-d2d8-4eb7-8764-c92ceab618e3",
   "metadata": {},
   "outputs": [],
   "source": [
    "## Random Forest"
   ]
  },
  {
   "cell_type": "code",
   "execution_count": 137,
   "id": "68ea532c-6feb-4914-b60b-08c943aa409a",
   "metadata": {},
   "outputs": [
    {
     "data": {
      "text/html": [
       "<div>\n",
       "<style scoped>\n",
       "    .dataframe tbody tr th:only-of-type {\n",
       "        vertical-align: middle;\n",
       "    }\n",
       "\n",
       "    .dataframe tbody tr th {\n",
       "        vertical-align: top;\n",
       "    }\n",
       "\n",
       "    .dataframe thead th {\n",
       "        text-align: right;\n",
       "    }\n",
       "</style>\n",
       "<table border=\"1\" class=\"dataframe\">\n",
       "  <thead>\n",
       "    <tr style=\"text-align: right;\">\n",
       "      <th></th>\n",
       "      <th>cap-diameter</th>\n",
       "      <th>stem-height</th>\n",
       "      <th>stem-width</th>\n",
       "      <th>cap-shape</th>\n",
       "      <th>cap-surface</th>\n",
       "      <th>cap-color</th>\n",
       "      <th>does-bruise-or-bleed</th>\n",
       "      <th>gill-attachment</th>\n",
       "      <th>gill-spacing</th>\n",
       "      <th>gill-color</th>\n",
       "      <th>stem-root</th>\n",
       "      <th>stem-surface</th>\n",
       "      <th>stem-color</th>\n",
       "      <th>veil-type</th>\n",
       "      <th>veil-color</th>\n",
       "      <th>has-ring</th>\n",
       "      <th>ring-type</th>\n",
       "      <th>spore-print-color</th>\n",
       "      <th>habitat</th>\n",
       "      <th>season</th>\n",
       "    </tr>\n",
       "  </thead>\n",
       "  <tbody>\n",
       "    <tr>\n",
       "      <th>1128539</th>\n",
       "      <td>4.060</td>\n",
       "      <td>5.910</td>\n",
       "      <td>7.230</td>\n",
       "      <td>x</td>\n",
       "      <td>h</td>\n",
       "      <td>y</td>\n",
       "      <td>f</td>\n",
       "      <td>a</td>\n",
       "      <td>c</td>\n",
       "      <td>y</td>\n",
       "      <td>b</td>\n",
       "      <td>g</td>\n",
       "      <td>o</td>\n",
       "      <td>u</td>\n",
       "      <td>w</td>\n",
       "      <td>f</td>\n",
       "      <td>f</td>\n",
       "      <td>k</td>\n",
       "      <td>g</td>\n",
       "      <td>a</td>\n",
       "    </tr>\n",
       "  </tbody>\n",
       "</table>\n",
       "</div>"
      ],
      "text/plain": [
       "         cap-diameter  stem-height  stem-width cap-shape cap-surface  \\\n",
       "1128539         4.060        5.910       7.230         x           h   \n",
       "\n",
       "        cap-color does-bruise-or-bleed gill-attachment gill-spacing  \\\n",
       "1128539         y                    f               a            c   \n",
       "\n",
       "        gill-color stem-root stem-surface stem-color veil-type veil-color  \\\n",
       "1128539          y         b            g          o         u          w   \n",
       "\n",
       "        has-ring ring-type spore-print-color habitat season  \n",
       "1128539        f         f                 k       g      a  "
      ]
     },
     "execution_count": 137,
     "metadata": {},
     "output_type": "execute_result"
    }
   ],
   "source": [
    "X_train[:1]"
   ]
  },
  {
   "cell_type": "code",
   "execution_count": 144,
   "id": "e1afa0f7-392b-4082-81f4-5e271449d20e",
   "metadata": {},
   "outputs": [
    {
     "data": {
      "text/plain": [
       "1128539    1\n",
       "Name: target, dtype: int32"
      ]
     },
     "execution_count": 144,
     "metadata": {},
     "output_type": "execute_result"
    }
   ],
   "source": [
    "y_train[:1]"
   ]
  },
  {
   "cell_type": "code",
   "execution_count": 345,
   "id": "26fdb3fb-015c-4dda-914b-9f400cd8e39c",
   "metadata": {},
   "outputs": [],
   "source": [
    "X_train_10 = X_train.copy()"
   ]
  },
  {
   "cell_type": "code",
   "execution_count": 346,
   "id": "f5f3e04f-0498-4802-b4c1-5647f9cc90ca",
   "metadata": {},
   "outputs": [],
   "source": [
    "y_train_10 = y_train.copy()"
   ]
  },
  {
   "cell_type": "code",
   "execution_count": 347,
   "id": "a2b75ae0-31c6-49b9-a0a7-c025e7d4e503",
   "metadata": {},
   "outputs": [
    {
     "data": {
      "text/html": [
       "<div>\n",
       "<style scoped>\n",
       "    .dataframe tbody tr th:only-of-type {\n",
       "        vertical-align: middle;\n",
       "    }\n",
       "\n",
       "    .dataframe tbody tr th {\n",
       "        vertical-align: top;\n",
       "    }\n",
       "\n",
       "    .dataframe thead th {\n",
       "        text-align: right;\n",
       "    }\n",
       "</style>\n",
       "<table border=\"1\" class=\"dataframe\">\n",
       "  <thead>\n",
       "    <tr style=\"text-align: right;\">\n",
       "      <th></th>\n",
       "      <th>cap-diameter</th>\n",
       "      <th>stem-height</th>\n",
       "      <th>stem-width</th>\n",
       "      <th>cap-shape</th>\n",
       "      <th>cap-surface</th>\n",
       "      <th>cap-color</th>\n",
       "      <th>does-bruise-or-bleed</th>\n",
       "      <th>gill-attachment</th>\n",
       "      <th>gill-spacing</th>\n",
       "      <th>gill-color</th>\n",
       "      <th>stem-root</th>\n",
       "      <th>stem-surface</th>\n",
       "      <th>stem-color</th>\n",
       "      <th>veil-type</th>\n",
       "      <th>veil-color</th>\n",
       "      <th>has-ring</th>\n",
       "      <th>ring-type</th>\n",
       "      <th>spore-print-color</th>\n",
       "      <th>habitat</th>\n",
       "      <th>season</th>\n",
       "    </tr>\n",
       "  </thead>\n",
       "  <tbody>\n",
       "    <tr>\n",
       "      <th>1128539</th>\n",
       "      <td>4.060</td>\n",
       "      <td>5.910</td>\n",
       "      <td>7.230</td>\n",
       "      <td>x</td>\n",
       "      <td>h</td>\n",
       "      <td>y</td>\n",
       "      <td>f</td>\n",
       "      <td>a</td>\n",
       "      <td>c</td>\n",
       "      <td>y</td>\n",
       "      <td>b</td>\n",
       "      <td>g</td>\n",
       "      <td>o</td>\n",
       "      <td>u</td>\n",
       "      <td>w</td>\n",
       "      <td>f</td>\n",
       "      <td>f</td>\n",
       "      <td>k</td>\n",
       "      <td>g</td>\n",
       "      <td>a</td>\n",
       "    </tr>\n",
       "    <tr>\n",
       "      <th>332916</th>\n",
       "      <td>12.230</td>\n",
       "      <td>8.460</td>\n",
       "      <td>18.290</td>\n",
       "      <td>x</td>\n",
       "      <td>s</td>\n",
       "      <td>n</td>\n",
       "      <td>f</td>\n",
       "      <td>s</td>\n",
       "      <td>c</td>\n",
       "      <td>p</td>\n",
       "      <td>b</td>\n",
       "      <td>i</td>\n",
       "      <td>n</td>\n",
       "      <td>u</td>\n",
       "      <td>w</td>\n",
       "      <td>f</td>\n",
       "      <td>f</td>\n",
       "      <td>k</td>\n",
       "      <td>d</td>\n",
       "      <td>a</td>\n",
       "    </tr>\n",
       "  </tbody>\n",
       "</table>\n",
       "</div>"
      ],
      "text/plain": [
       "         cap-diameter  stem-height  stem-width cap-shape cap-surface  \\\n",
       "1128539         4.060        5.910       7.230         x           h   \n",
       "332916         12.230        8.460      18.290         x           s   \n",
       "\n",
       "        cap-color does-bruise-or-bleed gill-attachment gill-spacing  \\\n",
       "1128539         y                    f               a            c   \n",
       "332916          n                    f               s            c   \n",
       "\n",
       "        gill-color stem-root stem-surface stem-color veil-type veil-color  \\\n",
       "1128539          y         b            g          o         u          w   \n",
       "332916           p         b            i          n         u          w   \n",
       "\n",
       "        has-ring ring-type spore-print-color habitat season  \n",
       "1128539        f         f                 k       g      a  \n",
       "332916         f         f                 k       d      a  "
      ]
     },
     "execution_count": 347,
     "metadata": {},
     "output_type": "execute_result"
    }
   ],
   "source": [
    "X_train_10[:2]"
   ]
  },
  {
   "cell_type": "code",
   "execution_count": 348,
   "id": "611e5d7c-afeb-4297-9824-418e4940783c",
   "metadata": {},
   "outputs": [
    {
     "data": {
      "text/plain": [
       "Index(['cap-diameter', 'stem-height', 'stem-width', 'cap-shape', 'cap-surface',\n",
       "       'cap-color', 'does-bruise-or-bleed', 'gill-attachment', 'gill-spacing',\n",
       "       'gill-color', 'stem-root', 'stem-surface', 'stem-color', 'veil-type',\n",
       "       'veil-color', 'has-ring', 'ring-type', 'spore-print-color', 'habitat',\n",
       "       'season'],\n",
       "      dtype='object')"
      ]
     },
     "execution_count": 348,
     "metadata": {},
     "output_type": "execute_result"
    }
   ],
   "source": [
    "X_train_10.columns"
   ]
  },
  {
   "cell_type": "code",
   "execution_count": 349,
   "id": "76ed3750-b4b6-445b-874b-7aba4118d17c",
   "metadata": {},
   "outputs": [],
   "source": [
    "#X_train_10[['cap-diameter','stem-height','stem-width']][:2]"
   ]
  },
  {
   "cell_type": "code",
   "execution_count": 350,
   "id": "e37d5afa-7388-4b9c-846d-d14e8a84a038",
   "metadata": {},
   "outputs": [],
   "source": [
    "#X_train_10.drop(columns = 'cap-shape', inplace=True)"
   ]
  },
  {
   "cell_type": "code",
   "execution_count": 351,
   "id": "691a4add-27b7-4c0c-91b3-5fcf4c2f1196",
   "metadata": {},
   "outputs": [],
   "source": [
    "# Convert to category if necessary\n",
    "# if X_train_10[problematic_feature].dtype != 'category':\n",
    "#     X_train_10[problematic_feature] = X_train_10[problematic_feature].astype('category')"
   ]
  },
  {
   "cell_type": "code",
   "execution_count": 352,
   "id": "5c7eda1e-36e3-4a29-9273-67b851e35e7e",
   "metadata": {},
   "outputs": [],
   "source": [
    "#X_train_10.dtypes"
   ]
  },
  {
   "cell_type": "code",
   "execution_count": null,
   "id": "004d9210-20b5-461b-89a7-d66f7d605dc1",
   "metadata": {},
   "outputs": [],
   "source": []
  },
  {
   "cell_type": "code",
   "execution_count": 395,
   "id": "34b8b415-de95-4205-991d-66499811b619",
   "metadata": {},
   "outputs": [
    {
     "name": "stdout",
     "output_type": "stream",
     "text": [
      "Parameter grid RF:\n",
      "{'max_depth': [7]}\n"
     ]
    }
   ],
   "source": [
    "# GridSearch + Cross Validation\n",
    "\n",
    "# dictionary of possible hiperparameters to test their combinations\n",
    "param_grid_cb = {'max_depth': [7]}# ,15], 'learning_rate': [0.01, 0.05]}#  'class_weight': [None, 'balanced', {0: 1, 1: 2.5}  , 'max_leaf_nodes': [10, 40, 100]  , 'min_samples_leaf':[5, 20, 45], }\n",
    "    #'class_weight': {0: 1, 1: 2.5} balancing manually, to give more importance to the minority class.\n",
    "# -> max_leaf_nodes and min_samples_leaf did not improve the model's performance\n",
    "print(\"Parameter grid RF:\\n{}\".format(param_grid_cb))"
   ]
  },
  {
   "cell_type": "code",
   "execution_count": 396,
   "id": "9a96f172-b968-47b5-bd37-79de74527084",
   "metadata": {},
   "outputs": [
    {
     "name": "stdout",
     "output_type": "stream",
     "text": [
      "Learning rate set to 0.5\n",
      "0:\tlearn: 0.5652685\ttotal: 684ms\tremaining: 13s\n",
      "1:\tlearn: 0.4772464\ttotal: 1.16s\tremaining: 10.5s\n",
      "2:\tlearn: 0.3936601\ttotal: 1.74s\tremaining: 9.87s\n",
      "3:\tlearn: 0.3311041\ttotal: 2.22s\tremaining: 8.89s\n",
      "4:\tlearn: 0.2792309\ttotal: 2.7s\tremaining: 8.09s\n",
      "5:\tlearn: 0.2439766\ttotal: 3.18s\tremaining: 7.42s\n",
      "6:\tlearn: 0.2145057\ttotal: 3.77s\tremaining: 7s\n",
      "7:\tlearn: 0.1932589\ttotal: 4.26s\tremaining: 6.38s\n",
      "8:\tlearn: 0.1653907\ttotal: 4.74s\tremaining: 5.79s\n",
      "9:\tlearn: 0.1533472\ttotal: 5.17s\tremaining: 5.17s\n",
      "10:\tlearn: 0.1347540\ttotal: 5.63s\tremaining: 4.6s\n",
      "11:\tlearn: 0.1235684\ttotal: 6.07s\tremaining: 4.04s\n",
      "12:\tlearn: 0.1143342\ttotal: 6.52s\tremaining: 3.51s\n",
      "13:\tlearn: 0.1092073\ttotal: 6.96s\tremaining: 2.98s\n",
      "14:\tlearn: 0.0985482\ttotal: 7.44s\tremaining: 2.48s\n",
      "15:\tlearn: 0.0928270\ttotal: 7.89s\tremaining: 1.97s\n",
      "16:\tlearn: 0.0876062\ttotal: 8.34s\tremaining: 1.47s\n",
      "17:\tlearn: 0.0830669\ttotal: 8.79s\tremaining: 977ms\n",
      "18:\tlearn: 0.0785573\ttotal: 9.24s\tremaining: 486ms\n",
      "19:\tlearn: 0.0767818\ttotal: 9.72s\tremaining: 0us\n",
      "Learning rate set to 0.5\n",
      "0:\tlearn: 0.5648491\ttotal: 594ms\tremaining: 11.3s\n",
      "1:\tlearn: 0.4777084\ttotal: 1.07s\tremaining: 9.67s\n",
      "2:\tlearn: 0.3969078\ttotal: 1.66s\tremaining: 9.43s\n",
      "3:\tlearn: 0.3610073\ttotal: 2.24s\tremaining: 8.96s\n",
      "4:\tlearn: 0.3159833\ttotal: 2.73s\tremaining: 8.19s\n",
      "5:\tlearn: 0.2627866\ttotal: 3.23s\tremaining: 7.53s\n",
      "6:\tlearn: 0.2209661\ttotal: 3.73s\tremaining: 6.93s\n",
      "7:\tlearn: 0.1992171\ttotal: 4.22s\tremaining: 6.34s\n",
      "8:\tlearn: 0.1761411\ttotal: 4.73s\tremaining: 5.78s\n",
      "9:\tlearn: 0.1613284\ttotal: 5.19s\tremaining: 5.19s\n",
      "10:\tlearn: 0.1417360\ttotal: 5.63s\tremaining: 4.61s\n",
      "11:\tlearn: 0.1317484\ttotal: 6.09s\tremaining: 4.06s\n",
      "12:\tlearn: 0.1197186\ttotal: 6.58s\tremaining: 3.54s\n",
      "13:\tlearn: 0.1080912\ttotal: 7.07s\tremaining: 3.03s\n",
      "14:\tlearn: 0.1032906\ttotal: 7.52s\tremaining: 2.5s\n",
      "15:\tlearn: 0.0947436\ttotal: 7.97s\tremaining: 1.99s\n",
      "16:\tlearn: 0.0877960\ttotal: 8.43s\tremaining: 1.49s\n",
      "17:\tlearn: 0.0820598\ttotal: 8.89s\tremaining: 988ms\n",
      "18:\tlearn: 0.0808182\ttotal: 9.35s\tremaining: 492ms\n",
      "19:\tlearn: 0.0776634\ttotal: 9.81s\tremaining: 0us\n",
      "Learning rate set to 0.5\n",
      "0:\tlearn: 0.5641153\ttotal: 1.25s\tremaining: 23.8s\n",
      "1:\tlearn: 0.4769031\ttotal: 2.14s\tremaining: 19.3s\n",
      "2:\tlearn: 0.3663763\ttotal: 3.27s\tremaining: 18.5s\n",
      "3:\tlearn: 0.3290346\ttotal: 4.37s\tremaining: 17.5s\n",
      "4:\tlearn: 0.2952497\ttotal: 5.3s\tremaining: 15.9s\n",
      "5:\tlearn: 0.2505382\ttotal: 6.24s\tremaining: 14.6s\n",
      "6:\tlearn: 0.2211407\ttotal: 7.19s\tremaining: 13.4s\n",
      "7:\tlearn: 0.1908758\ttotal: 8.13s\tremaining: 12.2s\n",
      "8:\tlearn: 0.1753400\ttotal: 8.99s\tremaining: 11s\n",
      "9:\tlearn: 0.1497786\ttotal: 9.96s\tremaining: 9.96s\n",
      "10:\tlearn: 0.1395467\ttotal: 10.8s\tremaining: 8.86s\n",
      "11:\tlearn: 0.1300328\ttotal: 11.8s\tremaining: 7.84s\n",
      "12:\tlearn: 0.1215235\ttotal: 12.6s\tremaining: 6.8s\n",
      "13:\tlearn: 0.1104993\ttotal: 13.5s\tremaining: 5.79s\n",
      "14:\tlearn: 0.1040851\ttotal: 14.4s\tremaining: 4.8s\n",
      "15:\tlearn: 0.0996789\ttotal: 15.3s\tremaining: 3.82s\n",
      "16:\tlearn: 0.0943498\ttotal: 16.2s\tremaining: 2.85s\n",
      "17:\tlearn: 0.0890116\ttotal: 17.1s\tremaining: 1.9s\n",
      "18:\tlearn: 0.0850470\ttotal: 18s\tremaining: 945ms\n",
      "19:\tlearn: 0.0815122\ttotal: 18.9s\tremaining: 0us\n"
     ]
    },
    {
     "data": {
      "text/html": [
       "<style>#sk-container-id-17 {\n",
       "  /* Definition of color scheme common for light and dark mode */\n",
       "  --sklearn-color-text: black;\n",
       "  --sklearn-color-line: gray;\n",
       "  /* Definition of color scheme for unfitted estimators */\n",
       "  --sklearn-color-unfitted-level-0: #fff5e6;\n",
       "  --sklearn-color-unfitted-level-1: #f6e4d2;\n",
       "  --sklearn-color-unfitted-level-2: #ffe0b3;\n",
       "  --sklearn-color-unfitted-level-3: chocolate;\n",
       "  /* Definition of color scheme for fitted estimators */\n",
       "  --sklearn-color-fitted-level-0: #f0f8ff;\n",
       "  --sklearn-color-fitted-level-1: #d4ebff;\n",
       "  --sklearn-color-fitted-level-2: #b3dbfd;\n",
       "  --sklearn-color-fitted-level-3: cornflowerblue;\n",
       "\n",
       "  /* Specific color for light theme */\n",
       "  --sklearn-color-text-on-default-background: var(--sg-text-color, var(--theme-code-foreground, var(--jp-content-font-color1, black)));\n",
       "  --sklearn-color-background: var(--sg-background-color, var(--theme-background, var(--jp-layout-color0, white)));\n",
       "  --sklearn-color-border-box: var(--sg-text-color, var(--theme-code-foreground, var(--jp-content-font-color1, black)));\n",
       "  --sklearn-color-icon: #696969;\n",
       "\n",
       "  @media (prefers-color-scheme: dark) {\n",
       "    /* Redefinition of color scheme for dark theme */\n",
       "    --sklearn-color-text-on-default-background: var(--sg-text-color, var(--theme-code-foreground, var(--jp-content-font-color1, white)));\n",
       "    --sklearn-color-background: var(--sg-background-color, var(--theme-background, var(--jp-layout-color0, #111)));\n",
       "    --sklearn-color-border-box: var(--sg-text-color, var(--theme-code-foreground, var(--jp-content-font-color1, white)));\n",
       "    --sklearn-color-icon: #878787;\n",
       "  }\n",
       "}\n",
       "\n",
       "#sk-container-id-17 {\n",
       "  color: var(--sklearn-color-text);\n",
       "}\n",
       "\n",
       "#sk-container-id-17 pre {\n",
       "  padding: 0;\n",
       "}\n",
       "\n",
       "#sk-container-id-17 input.sk-hidden--visually {\n",
       "  border: 0;\n",
       "  clip: rect(1px 1px 1px 1px);\n",
       "  clip: rect(1px, 1px, 1px, 1px);\n",
       "  height: 1px;\n",
       "  margin: -1px;\n",
       "  overflow: hidden;\n",
       "  padding: 0;\n",
       "  position: absolute;\n",
       "  width: 1px;\n",
       "}\n",
       "\n",
       "#sk-container-id-17 div.sk-dashed-wrapped {\n",
       "  border: 1px dashed var(--sklearn-color-line);\n",
       "  margin: 0 0.4em 0.5em 0.4em;\n",
       "  box-sizing: border-box;\n",
       "  padding-bottom: 0.4em;\n",
       "  background-color: var(--sklearn-color-background);\n",
       "}\n",
       "\n",
       "#sk-container-id-17 div.sk-container {\n",
       "  /* jupyter's `normalize.less` sets `[hidden] { display: none; }`\n",
       "     but bootstrap.min.css set `[hidden] { display: none !important; }`\n",
       "     so we also need the `!important` here to be able to override the\n",
       "     default hidden behavior on the sphinx rendered scikit-learn.org.\n",
       "     See: https://github.com/scikit-learn/scikit-learn/issues/21755 */\n",
       "  display: inline-block !important;\n",
       "  position: relative;\n",
       "}\n",
       "\n",
       "#sk-container-id-17 div.sk-text-repr-fallback {\n",
       "  display: none;\n",
       "}\n",
       "\n",
       "div.sk-parallel-item,\n",
       "div.sk-serial,\n",
       "div.sk-item {\n",
       "  /* draw centered vertical line to link estimators */\n",
       "  background-image: linear-gradient(var(--sklearn-color-text-on-default-background), var(--sklearn-color-text-on-default-background));\n",
       "  background-size: 2px 100%;\n",
       "  background-repeat: no-repeat;\n",
       "  background-position: center center;\n",
       "}\n",
       "\n",
       "/* Parallel-specific style estimator block */\n",
       "\n",
       "#sk-container-id-17 div.sk-parallel-item::after {\n",
       "  content: \"\";\n",
       "  width: 100%;\n",
       "  border-bottom: 2px solid var(--sklearn-color-text-on-default-background);\n",
       "  flex-grow: 1;\n",
       "}\n",
       "\n",
       "#sk-container-id-17 div.sk-parallel {\n",
       "  display: flex;\n",
       "  align-items: stretch;\n",
       "  justify-content: center;\n",
       "  background-color: var(--sklearn-color-background);\n",
       "  position: relative;\n",
       "}\n",
       "\n",
       "#sk-container-id-17 div.sk-parallel-item {\n",
       "  display: flex;\n",
       "  flex-direction: column;\n",
       "}\n",
       "\n",
       "#sk-container-id-17 div.sk-parallel-item:first-child::after {\n",
       "  align-self: flex-end;\n",
       "  width: 50%;\n",
       "}\n",
       "\n",
       "#sk-container-id-17 div.sk-parallel-item:last-child::after {\n",
       "  align-self: flex-start;\n",
       "  width: 50%;\n",
       "}\n",
       "\n",
       "#sk-container-id-17 div.sk-parallel-item:only-child::after {\n",
       "  width: 0;\n",
       "}\n",
       "\n",
       "/* Serial-specific style estimator block */\n",
       "\n",
       "#sk-container-id-17 div.sk-serial {\n",
       "  display: flex;\n",
       "  flex-direction: column;\n",
       "  align-items: center;\n",
       "  background-color: var(--sklearn-color-background);\n",
       "  padding-right: 1em;\n",
       "  padding-left: 1em;\n",
       "}\n",
       "\n",
       "\n",
       "/* Toggleable style: style used for estimator/Pipeline/ColumnTransformer box that is\n",
       "clickable and can be expanded/collapsed.\n",
       "- Pipeline and ColumnTransformer use this feature and define the default style\n",
       "- Estimators will overwrite some part of the style using the `sk-estimator` class\n",
       "*/\n",
       "\n",
       "/* Pipeline and ColumnTransformer style (default) */\n",
       "\n",
       "#sk-container-id-17 div.sk-toggleable {\n",
       "  /* Default theme specific background. It is overwritten whether we have a\n",
       "  specific estimator or a Pipeline/ColumnTransformer */\n",
       "  background-color: var(--sklearn-color-background);\n",
       "}\n",
       "\n",
       "/* Toggleable label */\n",
       "#sk-container-id-17 label.sk-toggleable__label {\n",
       "  cursor: pointer;\n",
       "  display: block;\n",
       "  width: 100%;\n",
       "  margin-bottom: 0;\n",
       "  padding: 0.5em;\n",
       "  box-sizing: border-box;\n",
       "  text-align: center;\n",
       "}\n",
       "\n",
       "#sk-container-id-17 label.sk-toggleable__label-arrow:before {\n",
       "  /* Arrow on the left of the label */\n",
       "  content: \"▸\";\n",
       "  float: left;\n",
       "  margin-right: 0.25em;\n",
       "  color: var(--sklearn-color-icon);\n",
       "}\n",
       "\n",
       "#sk-container-id-17 label.sk-toggleable__label-arrow:hover:before {\n",
       "  color: var(--sklearn-color-text);\n",
       "}\n",
       "\n",
       "/* Toggleable content - dropdown */\n",
       "\n",
       "#sk-container-id-17 div.sk-toggleable__content {\n",
       "  max-height: 0;\n",
       "  max-width: 0;\n",
       "  overflow: hidden;\n",
       "  text-align: left;\n",
       "  /* unfitted */\n",
       "  background-color: var(--sklearn-color-unfitted-level-0);\n",
       "}\n",
       "\n",
       "#sk-container-id-17 div.sk-toggleable__content.fitted {\n",
       "  /* fitted */\n",
       "  background-color: var(--sklearn-color-fitted-level-0);\n",
       "}\n",
       "\n",
       "#sk-container-id-17 div.sk-toggleable__content pre {\n",
       "  margin: 0.2em;\n",
       "  border-radius: 0.25em;\n",
       "  color: var(--sklearn-color-text);\n",
       "  /* unfitted */\n",
       "  background-color: var(--sklearn-color-unfitted-level-0);\n",
       "}\n",
       "\n",
       "#sk-container-id-17 div.sk-toggleable__content.fitted pre {\n",
       "  /* unfitted */\n",
       "  background-color: var(--sklearn-color-fitted-level-0);\n",
       "}\n",
       "\n",
       "#sk-container-id-17 input.sk-toggleable__control:checked~div.sk-toggleable__content {\n",
       "  /* Expand drop-down */\n",
       "  max-height: 200px;\n",
       "  max-width: 100%;\n",
       "  overflow: auto;\n",
       "}\n",
       "\n",
       "#sk-container-id-17 input.sk-toggleable__control:checked~label.sk-toggleable__label-arrow:before {\n",
       "  content: \"▾\";\n",
       "}\n",
       "\n",
       "/* Pipeline/ColumnTransformer-specific style */\n",
       "\n",
       "#sk-container-id-17 div.sk-label input.sk-toggleable__control:checked~label.sk-toggleable__label {\n",
       "  color: var(--sklearn-color-text);\n",
       "  background-color: var(--sklearn-color-unfitted-level-2);\n",
       "}\n",
       "\n",
       "#sk-container-id-17 div.sk-label.fitted input.sk-toggleable__control:checked~label.sk-toggleable__label {\n",
       "  background-color: var(--sklearn-color-fitted-level-2);\n",
       "}\n",
       "\n",
       "/* Estimator-specific style */\n",
       "\n",
       "/* Colorize estimator box */\n",
       "#sk-container-id-17 div.sk-estimator input.sk-toggleable__control:checked~label.sk-toggleable__label {\n",
       "  /* unfitted */\n",
       "  background-color: var(--sklearn-color-unfitted-level-2);\n",
       "}\n",
       "\n",
       "#sk-container-id-17 div.sk-estimator.fitted input.sk-toggleable__control:checked~label.sk-toggleable__label {\n",
       "  /* fitted */\n",
       "  background-color: var(--sklearn-color-fitted-level-2);\n",
       "}\n",
       "\n",
       "#sk-container-id-17 div.sk-label label.sk-toggleable__label,\n",
       "#sk-container-id-17 div.sk-label label {\n",
       "  /* The background is the default theme color */\n",
       "  color: var(--sklearn-color-text-on-default-background);\n",
       "}\n",
       "\n",
       "/* On hover, darken the color of the background */\n",
       "#sk-container-id-17 div.sk-label:hover label.sk-toggleable__label {\n",
       "  color: var(--sklearn-color-text);\n",
       "  background-color: var(--sklearn-color-unfitted-level-2);\n",
       "}\n",
       "\n",
       "/* Label box, darken color on hover, fitted */\n",
       "#sk-container-id-17 div.sk-label.fitted:hover label.sk-toggleable__label.fitted {\n",
       "  color: var(--sklearn-color-text);\n",
       "  background-color: var(--sklearn-color-fitted-level-2);\n",
       "}\n",
       "\n",
       "/* Estimator label */\n",
       "\n",
       "#sk-container-id-17 div.sk-label label {\n",
       "  font-family: monospace;\n",
       "  font-weight: bold;\n",
       "  display: inline-block;\n",
       "  line-height: 1.2em;\n",
       "}\n",
       "\n",
       "#sk-container-id-17 div.sk-label-container {\n",
       "  text-align: center;\n",
       "}\n",
       "\n",
       "/* Estimator-specific */\n",
       "#sk-container-id-17 div.sk-estimator {\n",
       "  font-family: monospace;\n",
       "  border: 1px dotted var(--sklearn-color-border-box);\n",
       "  border-radius: 0.25em;\n",
       "  box-sizing: border-box;\n",
       "  margin-bottom: 0.5em;\n",
       "  /* unfitted */\n",
       "  background-color: var(--sklearn-color-unfitted-level-0);\n",
       "}\n",
       "\n",
       "#sk-container-id-17 div.sk-estimator.fitted {\n",
       "  /* fitted */\n",
       "  background-color: var(--sklearn-color-fitted-level-0);\n",
       "}\n",
       "\n",
       "/* on hover */\n",
       "#sk-container-id-17 div.sk-estimator:hover {\n",
       "  /* unfitted */\n",
       "  background-color: var(--sklearn-color-unfitted-level-2);\n",
       "}\n",
       "\n",
       "#sk-container-id-17 div.sk-estimator.fitted:hover {\n",
       "  /* fitted */\n",
       "  background-color: var(--sklearn-color-fitted-level-2);\n",
       "}\n",
       "\n",
       "/* Specification for estimator info (e.g. \"i\" and \"?\") */\n",
       "\n",
       "/* Common style for \"i\" and \"?\" */\n",
       "\n",
       ".sk-estimator-doc-link,\n",
       "a:link.sk-estimator-doc-link,\n",
       "a:visited.sk-estimator-doc-link {\n",
       "  float: right;\n",
       "  font-size: smaller;\n",
       "  line-height: 1em;\n",
       "  font-family: monospace;\n",
       "  background-color: var(--sklearn-color-background);\n",
       "  border-radius: 1em;\n",
       "  height: 1em;\n",
       "  width: 1em;\n",
       "  text-decoration: none !important;\n",
       "  margin-left: 1ex;\n",
       "  /* unfitted */\n",
       "  border: var(--sklearn-color-unfitted-level-1) 1pt solid;\n",
       "  color: var(--sklearn-color-unfitted-level-1);\n",
       "}\n",
       "\n",
       ".sk-estimator-doc-link.fitted,\n",
       "a:link.sk-estimator-doc-link.fitted,\n",
       "a:visited.sk-estimator-doc-link.fitted {\n",
       "  /* fitted */\n",
       "  border: var(--sklearn-color-fitted-level-1) 1pt solid;\n",
       "  color: var(--sklearn-color-fitted-level-1);\n",
       "}\n",
       "\n",
       "/* On hover */\n",
       "div.sk-estimator:hover .sk-estimator-doc-link:hover,\n",
       ".sk-estimator-doc-link:hover,\n",
       "div.sk-label-container:hover .sk-estimator-doc-link:hover,\n",
       ".sk-estimator-doc-link:hover {\n",
       "  /* unfitted */\n",
       "  background-color: var(--sklearn-color-unfitted-level-3);\n",
       "  color: var(--sklearn-color-background);\n",
       "  text-decoration: none;\n",
       "}\n",
       "\n",
       "div.sk-estimator.fitted:hover .sk-estimator-doc-link.fitted:hover,\n",
       ".sk-estimator-doc-link.fitted:hover,\n",
       "div.sk-label-container:hover .sk-estimator-doc-link.fitted:hover,\n",
       ".sk-estimator-doc-link.fitted:hover {\n",
       "  /* fitted */\n",
       "  background-color: var(--sklearn-color-fitted-level-3);\n",
       "  color: var(--sklearn-color-background);\n",
       "  text-decoration: none;\n",
       "}\n",
       "\n",
       "/* Span, style for the box shown on hovering the info icon */\n",
       ".sk-estimator-doc-link span {\n",
       "  display: none;\n",
       "  z-index: 9999;\n",
       "  position: relative;\n",
       "  font-weight: normal;\n",
       "  right: .2ex;\n",
       "  padding: .5ex;\n",
       "  margin: .5ex;\n",
       "  width: min-content;\n",
       "  min-width: 20ex;\n",
       "  max-width: 50ex;\n",
       "  color: var(--sklearn-color-text);\n",
       "  box-shadow: 2pt 2pt 4pt #999;\n",
       "  /* unfitted */\n",
       "  background: var(--sklearn-color-unfitted-level-0);\n",
       "  border: .5pt solid var(--sklearn-color-unfitted-level-3);\n",
       "}\n",
       "\n",
       ".sk-estimator-doc-link.fitted span {\n",
       "  /* fitted */\n",
       "  background: var(--sklearn-color-fitted-level-0);\n",
       "  border: var(--sklearn-color-fitted-level-3);\n",
       "}\n",
       "\n",
       ".sk-estimator-doc-link:hover span {\n",
       "  display: block;\n",
       "}\n",
       "\n",
       "/* \"?\"-specific style due to the `<a>` HTML tag */\n",
       "\n",
       "#sk-container-id-17 a.estimator_doc_link {\n",
       "  float: right;\n",
       "  font-size: 1rem;\n",
       "  line-height: 1em;\n",
       "  font-family: monospace;\n",
       "  background-color: var(--sklearn-color-background);\n",
       "  border-radius: 1rem;\n",
       "  height: 1rem;\n",
       "  width: 1rem;\n",
       "  text-decoration: none;\n",
       "  /* unfitted */\n",
       "  color: var(--sklearn-color-unfitted-level-1);\n",
       "  border: var(--sklearn-color-unfitted-level-1) 1pt solid;\n",
       "}\n",
       "\n",
       "#sk-container-id-17 a.estimator_doc_link.fitted {\n",
       "  /* fitted */\n",
       "  border: var(--sklearn-color-fitted-level-1) 1pt solid;\n",
       "  color: var(--sklearn-color-fitted-level-1);\n",
       "}\n",
       "\n",
       "/* On hover */\n",
       "#sk-container-id-17 a.estimator_doc_link:hover {\n",
       "  /* unfitted */\n",
       "  background-color: var(--sklearn-color-unfitted-level-3);\n",
       "  color: var(--sklearn-color-background);\n",
       "  text-decoration: none;\n",
       "}\n",
       "\n",
       "#sk-container-id-17 a.estimator_doc_link.fitted:hover {\n",
       "  /* fitted */\n",
       "  background-color: var(--sklearn-color-fitted-level-3);\n",
       "}\n",
       "</style><div id=\"sk-container-id-17\" class=\"sk-top-container\"><div class=\"sk-text-repr-fallback\"><pre>GridSearchCV(cv=2,\n",
       "             estimator=&lt;catboost.core.CatBoostClassifier object at 0x00000153043978F0&gt;,\n",
       "             n_jobs=1, param_grid={&#x27;max_depth&#x27;: [7]}, return_train_score=True,\n",
       "             scoring=&#x27;matthews_corrcoef&#x27;)</pre><b>In a Jupyter environment, please rerun this cell to show the HTML representation or trust the notebook. <br />On GitHub, the HTML representation is unable to render, please try loading this page with nbviewer.org.</b></div><div class=\"sk-container\" hidden><div class=\"sk-item sk-dashed-wrapped\"><div class=\"sk-label-container\"><div class=\"sk-label fitted sk-toggleable\"><input class=\"sk-toggleable__control sk-hidden--visually\" id=\"sk-estimator-id-49\" type=\"checkbox\" ><label for=\"sk-estimator-id-49\" class=\"sk-toggleable__label fitted sk-toggleable__label-arrow fitted\">&nbsp;&nbsp;GridSearchCV<a class=\"sk-estimator-doc-link fitted\" rel=\"noreferrer\" target=\"_blank\" href=\"https://scikit-learn.org/1.5/modules/generated/sklearn.model_selection.GridSearchCV.html\">?<span>Documentation for GridSearchCV</span></a><span class=\"sk-estimator-doc-link fitted\">i<span>Fitted</span></span></label><div class=\"sk-toggleable__content fitted\"><pre>GridSearchCV(cv=2,\n",
       "             estimator=&lt;catboost.core.CatBoostClassifier object at 0x00000153043978F0&gt;,\n",
       "             n_jobs=1, param_grid={&#x27;max_depth&#x27;: [7]}, return_train_score=True,\n",
       "             scoring=&#x27;matthews_corrcoef&#x27;)</pre></div> </div></div><div class=\"sk-parallel\"><div class=\"sk-parallel-item\"><div class=\"sk-item\"><div class=\"sk-label-container\"><div class=\"sk-label fitted sk-toggleable\"><input class=\"sk-toggleable__control sk-hidden--visually\" id=\"sk-estimator-id-50\" type=\"checkbox\" ><label for=\"sk-estimator-id-50\" class=\"sk-toggleable__label fitted sk-toggleable__label-arrow fitted\">best_estimator_: CatBoostClassifier</label><div class=\"sk-toggleable__content fitted\"><pre>&lt;catboost.core.CatBoostClassifier object at 0x00000152EE375C40&gt;</pre></div> </div></div><div class=\"sk-serial\"><div class=\"sk-item\"><div class=\"sk-estimator fitted sk-toggleable\"><input class=\"sk-toggleable__control sk-hidden--visually\" id=\"sk-estimator-id-51\" type=\"checkbox\" ><label for=\"sk-estimator-id-51\" class=\"sk-toggleable__label fitted sk-toggleable__label-arrow fitted\">CatBoostClassifier</label><div class=\"sk-toggleable__content fitted\"><pre>&lt;catboost.core.CatBoostClassifier object at 0x00000152EE375C40&gt;</pre></div> </div></div></div></div></div></div></div></div></div>"
      ],
      "text/plain": [
       "GridSearchCV(cv=2,\n",
       "             estimator=<catboost.core.CatBoostClassifier object at 0x00000153043978F0>,\n",
       "             n_jobs=1, param_grid={'max_depth': [7]}, return_train_score=True,\n",
       "             scoring='matthews_corrcoef')"
      ]
     },
     "execution_count": 396,
     "metadata": {},
     "output_type": "execute_result"
    }
   ],
   "source": [
    "# instantiate a DT Classifier, on a GridSearchCV, and the number of K folds:\n",
    "CatBoost = GridSearchCV(CatBoostClassifier(n_estimators=20, random_state=98, cat_features=['cap-shape', 'cap-surface', 'cap-color', 'does-bruise-or-bleed', 'gill-attachment', 'gill-spacing', 'gill-color', 'stem-root', 'stem-surface', 'stem-color', 'veil-type','veil-color', 'has-ring', 'ring-type', 'spore-print-color', 'habitat', 'season']), param_grid_cb, cv=2, n_jobs=1, scoring='matthews_corrcoef', return_train_score=True)\n",
    "CatBoost.fit(X_train_10, y_train_10)   # [['cap-diameter','stem-height','stem-width', 'cap-shape']]"
   ]
  },
  {
   "cell_type": "code",
   "execution_count": null,
   "id": "34b411a1-16f9-45e4-949b-9a389d59fa19",
   "metadata": {},
   "outputs": [],
   "source": [
    "#PicklingError: Could not pickle the task to send it to the workers."
   ]
  },
  {
   "cell_type": "code",
   "execution_count": 397,
   "id": "37438d1c-e860-4754-bb92-8eacc4478294",
   "metadata": {},
   "outputs": [
    {
     "name": "stdout",
     "output_type": "stream",
     "text": [
      "RF Best parameters (val): {'max_depth': 7}\n",
      "RF Best cross-validation score (val): 0.964\n"
     ]
    }
   ],
   "source": [
    "# Get best parameters, and also the best score with cross-validation (VAL DATA):\n",
    "print(\"RF Best parameters (val): {}\".format(CatBoost.best_params_))\n",
    "print(\"RF Best cross-validation score (val): {:.3f}\".format(CatBoost.best_score_))"
   ]
  },
  {
   "cell_type": "code",
   "execution_count": 398,
   "id": "fc119921-e5ba-4a92-a5cc-05783ef91de6",
   "metadata": {},
   "outputs": [],
   "source": [
    "# Best model trained in VAL:\n",
    "#rf_best_estimator = CatBoost.best_estimator_\n",
    "#print(\"RF Best estimator (val): {}\".format(rf_best_estimator))"
   ]
  },
  {
   "cell_type": "code",
   "execution_count": 400,
   "id": "321a5da8-4bac-4efb-96fe-5e730eea124a",
   "metadata": {},
   "outputs": [
    {
     "data": {
      "text/html": [
       "<div>\n",
       "<style scoped>\n",
       "    .dataframe tbody tr th:only-of-type {\n",
       "        vertical-align: middle;\n",
       "    }\n",
       "\n",
       "    .dataframe tbody tr th {\n",
       "        vertical-align: top;\n",
       "    }\n",
       "\n",
       "    .dataframe thead th {\n",
       "        text-align: right;\n",
       "    }\n",
       "</style>\n",
       "<table border=\"1\" class=\"dataframe\">\n",
       "  <thead>\n",
       "    <tr style=\"text-align: right;\">\n",
       "      <th></th>\n",
       "      <th>rank_test_score</th>\n",
       "      <th>params</th>\n",
       "      <th>mean_train_score</th>\n",
       "      <th>mean_test_score</th>\n",
       "    </tr>\n",
       "  </thead>\n",
       "  <tbody>\n",
       "    <tr>\n",
       "      <th>0</th>\n",
       "      <td>1</td>\n",
       "      <td>{'max_depth': 7}</td>\n",
       "      <td>0.964</td>\n",
       "      <td>0.964</td>\n",
       "    </tr>\n",
       "  </tbody>\n",
       "</table>\n",
       "</div>"
      ],
      "text/plain": [
       "   rank_test_score            params  mean_train_score  mean_test_score\n",
       "0                1  {'max_depth': 7}             0.964            0.964"
      ]
     },
     "execution_count": 400,
     "metadata": {},
     "output_type": "execute_result"
    }
   ],
   "source": [
    "# Ranking of best models with CV, considering all given combinations of parameters. (mean_test_score = VAL):\n",
    "pd.DataFrame(CatBoost.cv_results_)[['rank_test_score','params','mean_train_score','mean_test_score']].sort_values('rank_test_score')[:5]"
   ]
  },
  {
   "cell_type": "code",
   "execution_count": 474,
   "id": "7baad5b9-f20c-4b5c-bd5c-aa8417e8af19",
   "metadata": {},
   "outputs": [],
   "source": [
    "# Access the best estimator\n",
    "best_model = grid_src_RFClassif.best_estimator_"
   ]
  },
  {
   "cell_type": "code",
   "execution_count": 475,
   "id": "60b520ff-de05-4724-9668-ed429979bbb8",
   "metadata": {},
   "outputs": [],
   "source": [
    "#Get feature importances:\n",
    "# Create a Pool object with your training data and specify categorical features\n",
    "train_pool = Pool(X_train, cat_features=['cap-shape', 'cap-surface', 'cap-color', \n",
    "                                         'does-bruise-or-bleed', 'gill-attachment', \n",
    "                                         'gill-spacing', 'gill-color', 'stem-root', \n",
    "                                         'stem-surface', 'stem-color', 'veil-type', \n",
    "                                         'veil-color', 'has-ring', 'ring-type', \n",
    "                                         'spore-print-color', 'habitat', 'season'])\n",
    "\n",
    "# Get feature importances\n",
    "feature_importances = best_model.get_feature_importance(data=train_pool)"
   ]
  },
  {
   "cell_type": "code",
   "execution_count": 478,
   "id": "0119a204-99e8-4397-8551-bde95d6f2f76",
   "metadata": {},
   "outputs": [
    {
     "name": "stdout",
     "output_type": "stream",
     "text": [
      "Top features ordered by importance: ['stem-width', 'stem-color', 'gill-attachment', 'stem-surface', 'gill-spacing', 'cap-surface', 'does-bruise-or-bleed', 'stem-height', 'has-ring', 'gill-color', 'cap-diameter', 'cap-color', 'cap-shape', 'stem-root', 'ring-type', 'veil-color', 'season', 'veil-type', 'spore-print-color', 'habitat']\n"
     ]
    }
   ],
   "source": [
    "#Feature importances:\n",
    "sorted_importances = sorted(zip(X_train.columns, feature_importances), key=lambda x: x[1], reverse=True)\n",
    "top_features = [feature for feature, importance in sorted_importances]\n",
    "print(\"Top features ordered by importance:\", top_features)"
   ]
  },
  {
   "cell_type": "markdown",
   "id": "9a3064a4-da13-4a1b-8373-86cac31db1ba",
   "metadata": {},
   "source": [
    "# Kaggle Test Prediction"
   ]
  },
  {
   "cell_type": "code",
   "execution_count": 419,
   "id": "2447691b-871c-4d27-9267-6577a643bed9",
   "metadata": {},
   "outputs": [
    {
     "data": {
      "text/html": [
       "<div>\n",
       "<style scoped>\n",
       "    .dataframe tbody tr th:only-of-type {\n",
       "        vertical-align: middle;\n",
       "    }\n",
       "\n",
       "    .dataframe tbody tr th {\n",
       "        vertical-align: top;\n",
       "    }\n",
       "\n",
       "    .dataframe thead th {\n",
       "        text-align: right;\n",
       "    }\n",
       "</style>\n",
       "<table border=\"1\" class=\"dataframe\">\n",
       "  <thead>\n",
       "    <tr style=\"text-align: right;\">\n",
       "      <th></th>\n",
       "      <th>id</th>\n",
       "      <th>cap-diameter</th>\n",
       "      <th>cap-shape</th>\n",
       "      <th>cap-surface</th>\n",
       "      <th>cap-color</th>\n",
       "      <th>does-bruise-or-bleed</th>\n",
       "      <th>gill-attachment</th>\n",
       "      <th>gill-spacing</th>\n",
       "      <th>gill-color</th>\n",
       "      <th>stem-height</th>\n",
       "      <th>stem-width</th>\n",
       "      <th>stem-root</th>\n",
       "      <th>stem-surface</th>\n",
       "      <th>stem-color</th>\n",
       "      <th>veil-type</th>\n",
       "      <th>veil-color</th>\n",
       "      <th>has-ring</th>\n",
       "      <th>ring-type</th>\n",
       "      <th>spore-print-color</th>\n",
       "      <th>habitat</th>\n",
       "      <th>season</th>\n",
       "    </tr>\n",
       "  </thead>\n",
       "  <tbody>\n",
       "    <tr>\n",
       "      <th>0</th>\n",
       "      <td>3116945</td>\n",
       "      <td>8.640</td>\n",
       "      <td>x</td>\n",
       "      <td>NaN</td>\n",
       "      <td>n</td>\n",
       "      <td>t</td>\n",
       "      <td>NaN</td>\n",
       "      <td>NaN</td>\n",
       "      <td>w</td>\n",
       "      <td>11.130</td>\n",
       "      <td>17.120</td>\n",
       "      <td>b</td>\n",
       "      <td>NaN</td>\n",
       "      <td>w</td>\n",
       "      <td>u</td>\n",
       "      <td>w</td>\n",
       "      <td>t</td>\n",
       "      <td>g</td>\n",
       "      <td>NaN</td>\n",
       "      <td>d</td>\n",
       "      <td>a</td>\n",
       "    </tr>\n",
       "    <tr>\n",
       "      <th>1</th>\n",
       "      <td>3116946</td>\n",
       "      <td>6.900</td>\n",
       "      <td>o</td>\n",
       "      <td>t</td>\n",
       "      <td>o</td>\n",
       "      <td>f</td>\n",
       "      <td>NaN</td>\n",
       "      <td>c</td>\n",
       "      <td>y</td>\n",
       "      <td>1.270</td>\n",
       "      <td>10.750</td>\n",
       "      <td>NaN</td>\n",
       "      <td>NaN</td>\n",
       "      <td>n</td>\n",
       "      <td>NaN</td>\n",
       "      <td>NaN</td>\n",
       "      <td>f</td>\n",
       "      <td>f</td>\n",
       "      <td>NaN</td>\n",
       "      <td>d</td>\n",
       "      <td>a</td>\n",
       "    </tr>\n",
       "    <tr>\n",
       "      <th>2</th>\n",
       "      <td>3116947</td>\n",
       "      <td>2.000</td>\n",
       "      <td>b</td>\n",
       "      <td>g</td>\n",
       "      <td>n</td>\n",
       "      <td>f</td>\n",
       "      <td>NaN</td>\n",
       "      <td>c</td>\n",
       "      <td>n</td>\n",
       "      <td>6.180</td>\n",
       "      <td>3.140</td>\n",
       "      <td>NaN</td>\n",
       "      <td>NaN</td>\n",
       "      <td>n</td>\n",
       "      <td>NaN</td>\n",
       "      <td>NaN</td>\n",
       "      <td>f</td>\n",
       "      <td>f</td>\n",
       "      <td>NaN</td>\n",
       "      <td>d</td>\n",
       "      <td>s</td>\n",
       "    </tr>\n",
       "    <tr>\n",
       "      <th>3</th>\n",
       "      <td>3116948</td>\n",
       "      <td>3.470</td>\n",
       "      <td>x</td>\n",
       "      <td>t</td>\n",
       "      <td>n</td>\n",
       "      <td>f</td>\n",
       "      <td>s</td>\n",
       "      <td>c</td>\n",
       "      <td>n</td>\n",
       "      <td>4.980</td>\n",
       "      <td>8.510</td>\n",
       "      <td>NaN</td>\n",
       "      <td>NaN</td>\n",
       "      <td>w</td>\n",
       "      <td>NaN</td>\n",
       "      <td>n</td>\n",
       "      <td>t</td>\n",
       "      <td>z</td>\n",
       "      <td>NaN</td>\n",
       "      <td>d</td>\n",
       "      <td>u</td>\n",
       "    </tr>\n",
       "    <tr>\n",
       "      <th>4</th>\n",
       "      <td>3116949</td>\n",
       "      <td>6.170</td>\n",
       "      <td>x</td>\n",
       "      <td>h</td>\n",
       "      <td>y</td>\n",
       "      <td>f</td>\n",
       "      <td>p</td>\n",
       "      <td>NaN</td>\n",
       "      <td>y</td>\n",
       "      <td>6.730</td>\n",
       "      <td>13.700</td>\n",
       "      <td>NaN</td>\n",
       "      <td>NaN</td>\n",
       "      <td>y</td>\n",
       "      <td>NaN</td>\n",
       "      <td>y</td>\n",
       "      <td>t</td>\n",
       "      <td>NaN</td>\n",
       "      <td>NaN</td>\n",
       "      <td>d</td>\n",
       "      <td>u</td>\n",
       "    </tr>\n",
       "    <tr>\n",
       "      <th>...</th>\n",
       "      <td>...</td>\n",
       "      <td>...</td>\n",
       "      <td>...</td>\n",
       "      <td>...</td>\n",
       "      <td>...</td>\n",
       "      <td>...</td>\n",
       "      <td>...</td>\n",
       "      <td>...</td>\n",
       "      <td>...</td>\n",
       "      <td>...</td>\n",
       "      <td>...</td>\n",
       "      <td>...</td>\n",
       "      <td>...</td>\n",
       "      <td>...</td>\n",
       "      <td>...</td>\n",
       "      <td>...</td>\n",
       "      <td>...</td>\n",
       "      <td>...</td>\n",
       "      <td>...</td>\n",
       "      <td>...</td>\n",
       "      <td>...</td>\n",
       "    </tr>\n",
       "    <tr>\n",
       "      <th>2077959</th>\n",
       "      <td>5194904</td>\n",
       "      <td>0.880</td>\n",
       "      <td>x</td>\n",
       "      <td>g</td>\n",
       "      <td>w</td>\n",
       "      <td>f</td>\n",
       "      <td>a</td>\n",
       "      <td>d</td>\n",
       "      <td>w</td>\n",
       "      <td>2.670</td>\n",
       "      <td>1.350</td>\n",
       "      <td>NaN</td>\n",
       "      <td>NaN</td>\n",
       "      <td>e</td>\n",
       "      <td>NaN</td>\n",
       "      <td>NaN</td>\n",
       "      <td>f</td>\n",
       "      <td>f</td>\n",
       "      <td>NaN</td>\n",
       "      <td>d</td>\n",
       "      <td>u</td>\n",
       "    </tr>\n",
       "    <tr>\n",
       "      <th>2077960</th>\n",
       "      <td>5194905</td>\n",
       "      <td>3.120</td>\n",
       "      <td>x</td>\n",
       "      <td>s</td>\n",
       "      <td>w</td>\n",
       "      <td>f</td>\n",
       "      <td>d</td>\n",
       "      <td>c</td>\n",
       "      <td>w</td>\n",
       "      <td>2.690</td>\n",
       "      <td>7.380</td>\n",
       "      <td>NaN</td>\n",
       "      <td>NaN</td>\n",
       "      <td>w</td>\n",
       "      <td>NaN</td>\n",
       "      <td>NaN</td>\n",
       "      <td>f</td>\n",
       "      <td>f</td>\n",
       "      <td>NaN</td>\n",
       "      <td>g</td>\n",
       "      <td>a</td>\n",
       "    </tr>\n",
       "    <tr>\n",
       "      <th>2077961</th>\n",
       "      <td>5194906</td>\n",
       "      <td>5.730</td>\n",
       "      <td>x</td>\n",
       "      <td>e</td>\n",
       "      <td>e</td>\n",
       "      <td>f</td>\n",
       "      <td>a</td>\n",
       "      <td>NaN</td>\n",
       "      <td>w</td>\n",
       "      <td>6.160</td>\n",
       "      <td>9.740</td>\n",
       "      <td>NaN</td>\n",
       "      <td>NaN</td>\n",
       "      <td>y</td>\n",
       "      <td>NaN</td>\n",
       "      <td>w</td>\n",
       "      <td>t</td>\n",
       "      <td>z</td>\n",
       "      <td>NaN</td>\n",
       "      <td>d</td>\n",
       "      <td>a</td>\n",
       "    </tr>\n",
       "    <tr>\n",
       "      <th>2077962</th>\n",
       "      <td>5194907</td>\n",
       "      <td>5.030</td>\n",
       "      <td>b</td>\n",
       "      <td>g</td>\n",
       "      <td>n</td>\n",
       "      <td>f</td>\n",
       "      <td>a</td>\n",
       "      <td>d</td>\n",
       "      <td>g</td>\n",
       "      <td>6.000</td>\n",
       "      <td>3.460</td>\n",
       "      <td>NaN</td>\n",
       "      <td>s</td>\n",
       "      <td>g</td>\n",
       "      <td>NaN</td>\n",
       "      <td>NaN</td>\n",
       "      <td>f</td>\n",
       "      <td>f</td>\n",
       "      <td>NaN</td>\n",
       "      <td>d</td>\n",
       "      <td>a</td>\n",
       "    </tr>\n",
       "    <tr>\n",
       "      <th>2077963</th>\n",
       "      <td>5194908</td>\n",
       "      <td>15.510</td>\n",
       "      <td>f</td>\n",
       "      <td>NaN</td>\n",
       "      <td>w</td>\n",
       "      <td>f</td>\n",
       "      <td>d</td>\n",
       "      <td>c</td>\n",
       "      <td>y</td>\n",
       "      <td>2.690</td>\n",
       "      <td>17.710</td>\n",
       "      <td>NaN</td>\n",
       "      <td>NaN</td>\n",
       "      <td>w</td>\n",
       "      <td>NaN</td>\n",
       "      <td>NaN</td>\n",
       "      <td>f</td>\n",
       "      <td>f</td>\n",
       "      <td>NaN</td>\n",
       "      <td>d</td>\n",
       "      <td>w</td>\n",
       "    </tr>\n",
       "  </tbody>\n",
       "</table>\n",
       "<p>2077964 rows × 21 columns</p>\n",
       "</div>"
      ],
      "text/plain": [
       "              id  cap-diameter cap-shape cap-surface cap-color  \\\n",
       "0        3116945         8.640         x         NaN         n   \n",
       "1        3116946         6.900         o           t         o   \n",
       "2        3116947         2.000         b           g         n   \n",
       "3        3116948         3.470         x           t         n   \n",
       "4        3116949         6.170         x           h         y   \n",
       "...          ...           ...       ...         ...       ...   \n",
       "2077959  5194904         0.880         x           g         w   \n",
       "2077960  5194905         3.120         x           s         w   \n",
       "2077961  5194906         5.730         x           e         e   \n",
       "2077962  5194907         5.030         b           g         n   \n",
       "2077963  5194908        15.510         f         NaN         w   \n",
       "\n",
       "        does-bruise-or-bleed gill-attachment gill-spacing gill-color  \\\n",
       "0                          t             NaN          NaN          w   \n",
       "1                          f             NaN            c          y   \n",
       "2                          f             NaN            c          n   \n",
       "3                          f               s            c          n   \n",
       "4                          f               p          NaN          y   \n",
       "...                      ...             ...          ...        ...   \n",
       "2077959                    f               a            d          w   \n",
       "2077960                    f               d            c          w   \n",
       "2077961                    f               a          NaN          w   \n",
       "2077962                    f               a            d          g   \n",
       "2077963                    f               d            c          y   \n",
       "\n",
       "         stem-height  stem-width stem-root stem-surface stem-color veil-type  \\\n",
       "0             11.130      17.120         b          NaN          w         u   \n",
       "1              1.270      10.750       NaN          NaN          n       NaN   \n",
       "2              6.180       3.140       NaN          NaN          n       NaN   \n",
       "3              4.980       8.510       NaN          NaN          w       NaN   \n",
       "4              6.730      13.700       NaN          NaN          y       NaN   \n",
       "...              ...         ...       ...          ...        ...       ...   \n",
       "2077959        2.670       1.350       NaN          NaN          e       NaN   \n",
       "2077960        2.690       7.380       NaN          NaN          w       NaN   \n",
       "2077961        6.160       9.740       NaN          NaN          y       NaN   \n",
       "2077962        6.000       3.460       NaN            s          g       NaN   \n",
       "2077963        2.690      17.710       NaN          NaN          w       NaN   \n",
       "\n",
       "        veil-color has-ring ring-type spore-print-color habitat season  \n",
       "0                w        t         g               NaN       d      a  \n",
       "1              NaN        f         f               NaN       d      a  \n",
       "2              NaN        f         f               NaN       d      s  \n",
       "3                n        t         z               NaN       d      u  \n",
       "4                y        t       NaN               NaN       d      u  \n",
       "...            ...      ...       ...               ...     ...    ...  \n",
       "2077959        NaN        f         f               NaN       d      u  \n",
       "2077960        NaN        f         f               NaN       g      a  \n",
       "2077961          w        t         z               NaN       d      a  \n",
       "2077962        NaN        f         f               NaN       d      a  \n",
       "2077963        NaN        f         f               NaN       d      w  \n",
       "\n",
       "[2077964 rows x 21 columns]"
      ]
     },
     "execution_count": 419,
     "metadata": {},
     "output_type": "execute_result"
    }
   ],
   "source": [
    "# Load .csv w/ Pandas (production data, to submit predictions)\n",
    "X_prod = pd.read_csv('..\\\\dt\\\\kaggle\\\\test.csv')\n",
    "X_prod"
   ]
  },
  {
   "cell_type": "code",
   "execution_count": 420,
   "id": "dbc1c32a-7d9e-4f18-a21f-763c39f16997",
   "metadata": {},
   "outputs": [
    {
     "name": "stdout",
     "output_type": "stream",
     "text": [
      "(2077964, 20)\n"
     ]
    },
    {
     "data": {
      "text/html": [
       "<div>\n",
       "<style scoped>\n",
       "    .dataframe tbody tr th:only-of-type {\n",
       "        vertical-align: middle;\n",
       "    }\n",
       "\n",
       "    .dataframe tbody tr th {\n",
       "        vertical-align: top;\n",
       "    }\n",
       "\n",
       "    .dataframe thead th {\n",
       "        text-align: right;\n",
       "    }\n",
       "</style>\n",
       "<table border=\"1\" class=\"dataframe\">\n",
       "  <thead>\n",
       "    <tr style=\"text-align: right;\">\n",
       "      <th></th>\n",
       "      <th>cap-diameter</th>\n",
       "      <th>cap-shape</th>\n",
       "      <th>cap-surface</th>\n",
       "      <th>cap-color</th>\n",
       "      <th>does-bruise-or-bleed</th>\n",
       "      <th>gill-attachment</th>\n",
       "      <th>gill-spacing</th>\n",
       "      <th>gill-color</th>\n",
       "      <th>stem-height</th>\n",
       "      <th>stem-width</th>\n",
       "      <th>stem-root</th>\n",
       "      <th>stem-surface</th>\n",
       "      <th>stem-color</th>\n",
       "      <th>veil-type</th>\n",
       "      <th>veil-color</th>\n",
       "      <th>has-ring</th>\n",
       "      <th>ring-type</th>\n",
       "      <th>spore-print-color</th>\n",
       "      <th>habitat</th>\n",
       "      <th>season</th>\n",
       "    </tr>\n",
       "  </thead>\n",
       "  <tbody>\n",
       "    <tr>\n",
       "      <th>0</th>\n",
       "      <td>8.640</td>\n",
       "      <td>x</td>\n",
       "      <td>NaN</td>\n",
       "      <td>n</td>\n",
       "      <td>t</td>\n",
       "      <td>NaN</td>\n",
       "      <td>NaN</td>\n",
       "      <td>w</td>\n",
       "      <td>11.130</td>\n",
       "      <td>17.120</td>\n",
       "      <td>b</td>\n",
       "      <td>NaN</td>\n",
       "      <td>w</td>\n",
       "      <td>u</td>\n",
       "      <td>w</td>\n",
       "      <td>t</td>\n",
       "      <td>g</td>\n",
       "      <td>NaN</td>\n",
       "      <td>d</td>\n",
       "      <td>a</td>\n",
       "    </tr>\n",
       "    <tr>\n",
       "      <th>1</th>\n",
       "      <td>6.900</td>\n",
       "      <td>o</td>\n",
       "      <td>t</td>\n",
       "      <td>o</td>\n",
       "      <td>f</td>\n",
       "      <td>NaN</td>\n",
       "      <td>c</td>\n",
       "      <td>y</td>\n",
       "      <td>1.270</td>\n",
       "      <td>10.750</td>\n",
       "      <td>NaN</td>\n",
       "      <td>NaN</td>\n",
       "      <td>n</td>\n",
       "      <td>NaN</td>\n",
       "      <td>NaN</td>\n",
       "      <td>f</td>\n",
       "      <td>f</td>\n",
       "      <td>NaN</td>\n",
       "      <td>d</td>\n",
       "      <td>a</td>\n",
       "    </tr>\n",
       "    <tr>\n",
       "      <th>2</th>\n",
       "      <td>2.000</td>\n",
       "      <td>b</td>\n",
       "      <td>g</td>\n",
       "      <td>n</td>\n",
       "      <td>f</td>\n",
       "      <td>NaN</td>\n",
       "      <td>c</td>\n",
       "      <td>n</td>\n",
       "      <td>6.180</td>\n",
       "      <td>3.140</td>\n",
       "      <td>NaN</td>\n",
       "      <td>NaN</td>\n",
       "      <td>n</td>\n",
       "      <td>NaN</td>\n",
       "      <td>NaN</td>\n",
       "      <td>f</td>\n",
       "      <td>f</td>\n",
       "      <td>NaN</td>\n",
       "      <td>d</td>\n",
       "      <td>s</td>\n",
       "    </tr>\n",
       "  </tbody>\n",
       "</table>\n",
       "</div>"
      ],
      "text/plain": [
       "   cap-diameter cap-shape cap-surface cap-color does-bruise-or-bleed  \\\n",
       "0         8.640         x         NaN         n                    t   \n",
       "1         6.900         o           t         o                    f   \n",
       "2         2.000         b           g         n                    f   \n",
       "\n",
       "  gill-attachment gill-spacing gill-color  stem-height  stem-width stem-root  \\\n",
       "0             NaN          NaN          w       11.130      17.120         b   \n",
       "1             NaN            c          y        1.270      10.750       NaN   \n",
       "2             NaN            c          n        6.180       3.140       NaN   \n",
       "\n",
       "  stem-surface stem-color veil-type veil-color has-ring ring-type  \\\n",
       "0          NaN          w         u          w        t         g   \n",
       "1          NaN          n       NaN        NaN        f         f   \n",
       "2          NaN          n       NaN        NaN        f         f   \n",
       "\n",
       "  spore-print-color habitat season  \n",
       "0               NaN       d      a  \n",
       "1               NaN       d      a  \n",
       "2               NaN       d      s  "
      ]
     },
     "execution_count": 420,
     "metadata": {},
     "output_type": "execute_result"
    }
   ],
   "source": [
    "#save id to build submission\n",
    "X_prod_id = X_prod['id'].copy()\n",
    "X_prod.drop(columns='id', inplace=True)\n",
    "print(X_prod.shape) \n",
    "X_prod[:3]"
   ]
  },
  {
   "cell_type": "code",
   "execution_count": 423,
   "id": "429c4a6d-9dcf-4b83-bf43-b6abc8ddd61c",
   "metadata": {},
   "outputs": [
    {
     "name": "stdout",
     "output_type": "stream",
     "text": [
      "(2077964, 20)\n"
     ]
    }
   ],
   "source": [
    "print(X_prod.shape) "
   ]
  },
  {
   "cell_type": "markdown",
   "id": "cf676472-dd74-4ada-ad32-cda9a87e0ce1",
   "metadata": {
    "jp-MarkdownHeadingCollapsed": true
   },
   "source": [
    "## Clean test"
   ]
  },
  {
   "cell_type": "code",
   "execution_count": 424,
   "id": "3bc4f5c6-d10d-485e-9b02-c3b13b747429",
   "metadata": {},
   "outputs": [],
   "source": [
    "# Step 1: Separate numerical and categorical columns\n",
    "num_cols = X_prod.select_dtypes(include=['float64', 'int64']).columns\n",
    "cat_cols = X_prod.select_dtypes(include=['object']).columns"
   ]
  },
  {
   "cell_type": "code",
   "execution_count": 425,
   "id": "a106f547-27be-4c33-b3a2-fde3d36085bb",
   "metadata": {
    "scrolled": true
   },
   "outputs": [
    {
     "name": "stdout",
     "output_type": "stream",
     "text": [
      "- Distinct values:\n",
      "cap-shape               63\n",
      "cap-surface             60\n",
      "cap-color               58\n",
      "does-bruise-or-bleed    23\n",
      "gill-attachment         67\n",
      "gill-spacing            36\n",
      "gill-color              57\n",
      "stem-root               32\n",
      "stem-surface            55\n",
      "stem-color              56\n",
      "veil-type               16\n",
      "veil-color              24\n",
      "has-ring                24\n",
      "ring-type               37\n",
      "spore-print-color       34\n",
      "habitat                 40\n",
      "season                   4\n",
      "dtype: int64 \n",
      "\n",
      "- Variations:\n",
      "cap-shape               [x, o, b, f, s, p, c, g, t, i, a, n, 7.21, e, nan, w, d, k, u, y, 3.34, 8.3, r, l, 3.32, 19.76, ...\n",
      "cap-surface             [nan, t, g, h, d, e, y, k, s, i, l, w, r, f, o, m, a, n, p, b, x, season, u, 6.04, z, 10.09, spo...\n",
      "cap-color               [n, o, y, k, b, w, e, g, p, u, l, r, z, f, nan, s, d, i, 10.93, ring-type, a, x, 0.73, c, t, 19....\n",
      "does-bruise-or-bleed                      [t, f, c, k, season, does t, nan, x, s, a, p, n, o, w, b, i, e, r, l, y, m, g, h]\n",
      "gill-attachment         [nan, s, p, x, f, a, d, e, c, t, i, u, 13.42, k, 6.24, n, w, m, class, z, l, 8.33, b, o, g, 2.75...\n",
      "gill-spacing            [nan, c, f, d, s, e, has f, a, y, m, w, b, g, p, x, 1.61, r, 1.46, 2.93, t, 3.42, i, k, does c, ...\n",
      "gill-color              [w, y, n, e, f, b, g, p, o, u, k, r, l, d, nan, has-ring, season, t, s, a, x, c, 8.95, i, 6.3, h...\n",
      "stem-root               [b, nan, s, r, c, f, a, p, u, o, x, t, e, w, g, 1.48, k, d, y, 1.62, 18.29, m, l, h, n, i, 3.24,...\n",
      "stem-surface            [nan, s, g, y, t, i, k, h, f, w, l, r, d, e, 2.98, b, c, does None, 6.06, u, o, 2.95, season, 6....\n",
      "stem-color              [w, n, y, g, o, p, u, e, k, r, l, b, s, f, nan, h, x, a, 3.05, t, stem-root, veil-color, m, c, d...\n",
      "veil-type                                                               [u, nan, l, e, y, w, p, g, k, a, s, c, b, n, 11, m]\n",
      "veil-color                                    [w, nan, n, y, e, u, k, i, p, g, r, f, b, h, s, t, 4.02, o, d, m, l, 9, c, a]\n",
      "has-ring                                     [t, f, nan, u, a, c, l, g, i, m, p, r, x, y, d, e, z, k, o, h, b, s, w, 20.96]\n",
      "ring-type               [g, f, z, nan, r, e, l, p, m, d, n, u, s, season, k, t, a, y, o, c, w, 1, x, b, h, ring-type, i,...\n",
      "spore-print-color       [nan, p, k, w, n, r, g, u, b, o, f, t, e, h, veil-color, d, l, i, s, y, a, 17.72, 2.52, 8.82, 6....\n",
      "habitat                 [d, p, u, g, h, m, l, w, s, t, habitat, k, nan, n, x, o, e, a, spore-print-color, class, c, b, y...\n",
      "season                                                                                                         [a, s, u, w]\n",
      "dtype: object \n"
     ]
    }
   ],
   "source": [
    "# Variations of each column\n",
    "print(f\"- Distinct values:\\n{X_prod[cat_cols].apply( lambda x: x.unique().shape[0] ) } \\n\" )\n",
    "print(f\"- Variations:\\n{X_prod[cat_cols].apply( lambda x: x.unique() ) } \" )"
   ]
  },
  {
   "cell_type": "code",
   "execution_count": 426,
   "id": "08da1367-7e38-4f8f-87cc-bf3cd6d020c2",
   "metadata": {},
   "outputs": [
    {
     "data": {
      "text/plain": [
       "spore-print-color\n",
       "k             71573\n",
       "p             45452\n",
       "w             33657\n",
       "n             15081\n",
       "r              5305\n",
       "u              4845\n",
       "g              2323\n",
       "y                18\n",
       "f                11\n",
       "s                10\n",
       "e                 9\n",
       "o                 8\n",
       "b                 7\n",
       "a                 6\n",
       "d                 6\n",
       "t                 5\n",
       "z                 5\n",
       "l                 5\n",
       "c                 3\n",
       "i                 3\n",
       "h                 3\n",
       "17.72             1\n",
       "2.52              1\n",
       "8.82              1\n",
       "6.14              1\n",
       "veil-color        1\n",
       "27.48             1\n",
       "ring-type         1\n",
       "x                 1\n",
       "26.48             1\n",
       "3.65              1\n",
       "4                 1\n",
       "2.92              1\n",
       "Name: count, dtype: int64"
      ]
     },
     "execution_count": 426,
     "metadata": {},
     "output_type": "execute_result"
    }
   ],
   "source": [
    "# Inspecting cat vars, lok like noise has less than 10 samples per variable. \n",
    "X_prod['spore-print-color'].value_counts()"
   ]
  },
  {
   "cell_type": "code",
   "execution_count": 427,
   "id": "8314ec17-5951-4977-b9ac-ce9f2e449f9a",
   "metadata": {},
   "outputs": [],
   "source": [
    "# Remove variations with few samples (considering noise)"
   ]
  },
  {
   "cell_type": "code",
   "execution_count": 429,
   "id": "d3e90572-30dd-44cf-a652-6a77e2d71757",
   "metadata": {},
   "outputs": [],
   "source": [
    "# Call the function  -> PASS, REMOVES LINES!\n",
    "#X_prod2 = remove_low_variation_rows(X_prod, cat_cols, thr=30)"
   ]
  },
  {
   "cell_type": "code",
   "execution_count": null,
   "id": "dc3fc1bb-f20e-4af0-a921-8e4376c0e623",
   "metadata": {},
   "outputs": [],
   "source": []
  },
  {
   "cell_type": "code",
   "execution_count": 431,
   "id": "d07fd20b-1b9c-4880-92f9-eea0a61d1184",
   "metadata": {},
   "outputs": [
    {
     "name": "stdout",
     "output_type": "stream",
     "text": [
      "(2077964, 20)\n"
     ]
    }
   ],
   "source": [
    "print(X_prod.shape) "
   ]
  },
  {
   "cell_type": "code",
   "execution_count": null,
   "id": "4ae624a5-0d7a-4ea6-81fc-caebb0387a69",
   "metadata": {},
   "outputs": [],
   "source": []
  },
  {
   "cell_type": "code",
   "execution_count": 432,
   "id": "25601973-eb21-4f5b-b3b2-53231b955a39",
   "metadata": {},
   "outputs": [
    {
     "name": "stdout",
     "output_type": "stream",
     "text": [
      "- Distinct values:\n",
      "cap-shape               63\n",
      "cap-surface             60\n",
      "cap-color               58\n",
      "does-bruise-or-bleed    23\n",
      "gill-attachment         67\n",
      "gill-spacing            36\n",
      "gill-color              57\n",
      "stem-root               32\n",
      "stem-surface            55\n",
      "stem-color              56\n",
      "veil-type               16\n",
      "veil-color              24\n",
      "has-ring                24\n",
      "ring-type               37\n",
      "spore-print-color       34\n",
      "habitat                 40\n",
      "season                   4\n",
      "dtype: int64 \n",
      "\n",
      "- Variations:\n",
      "cap-shape               [x, o, b, f, s, p, c, g, t, i, a, n, 7.21, e, nan, w, d, k, u, y, 3.34, 8.3, r, l, 3.32, 19.76, ...\n",
      "cap-surface             [nan, t, g, h, d, e, y, k, s, i, l, w, r, f, o, m, a, n, p, b, x, season, u, 6.04, z, 10.09, spo...\n",
      "cap-color               [n, o, y, k, b, w, e, g, p, u, l, r, z, f, nan, s, d, i, 10.93, ring-type, a, x, 0.73, c, t, 19....\n",
      "does-bruise-or-bleed                      [t, f, c, k, season, does t, nan, x, s, a, p, n, o, w, b, i, e, r, l, y, m, g, h]\n",
      "gill-attachment         [nan, s, p, x, f, a, d, e, c, t, i, u, 13.42, k, 6.24, n, w, m, class, z, l, 8.33, b, o, g, 2.75...\n",
      "gill-spacing            [nan, c, f, d, s, e, has f, a, y, m, w, b, g, p, x, 1.61, r, 1.46, 2.93, t, 3.42, i, k, does c, ...\n",
      "gill-color              [w, y, n, e, f, b, g, p, o, u, k, r, l, d, nan, has-ring, season, t, s, a, x, c, 8.95, i, 6.3, h...\n",
      "stem-root               [b, nan, s, r, c, f, a, p, u, o, x, t, e, w, g, 1.48, k, d, y, 1.62, 18.29, m, l, h, n, i, 3.24,...\n",
      "stem-surface            [nan, s, g, y, t, i, k, h, f, w, l, r, d, e, 2.98, b, c, does None, 6.06, u, o, 2.95, season, 6....\n",
      "stem-color              [w, n, y, g, o, p, u, e, k, r, l, b, s, f, nan, h, x, a, 3.05, t, stem-root, veil-color, m, c, d...\n",
      "veil-type                                                               [u, nan, l, e, y, w, p, g, k, a, s, c, b, n, 11, m]\n",
      "veil-color                                    [w, nan, n, y, e, u, k, i, p, g, r, f, b, h, s, t, 4.02, o, d, m, l, 9, c, a]\n",
      "has-ring                                     [t, f, nan, u, a, c, l, g, i, m, p, r, x, y, d, e, z, k, o, h, b, s, w, 20.96]\n",
      "ring-type               [g, f, z, nan, r, e, l, p, m, d, n, u, s, season, k, t, a, y, o, c, w, 1, x, b, h, ring-type, i,...\n",
      "spore-print-color       [nan, p, k, w, n, r, g, u, b, o, f, t, e, h, veil-color, d, l, i, s, y, a, 17.72, 2.52, 8.82, 6....\n",
      "habitat                 [d, p, u, g, h, m, l, w, s, t, habitat, k, nan, n, x, o, e, a, spore-print-color, class, c, b, y...\n",
      "season                                                                                                         [a, s, u, w]\n",
      "dtype: object \n"
     ]
    }
   ],
   "source": [
    "#variations of each column\n",
    "print(f\"- Distinct values:\\n{X_prod[cat_cols].apply( lambda x: x.unique().shape[0] ) } \\n\" )\n",
    "print(f\"- Variations:\\n{X_prod[cat_cols].apply( lambda x: x.unique() ) } \" )"
   ]
  },
  {
   "cell_type": "code",
   "execution_count": 89,
   "id": "0089bf32-63a8-4c2b-a7e4-842c204a016a",
   "metadata": {},
   "outputs": [],
   "source": [
    "#Looks ok now! \n",
    "#There is a chance of some variation be on test, that is not on train, but since we have 3MI + data, it may not have impact. "
   ]
  },
  {
   "cell_type": "code",
   "execution_count": null,
   "id": "78c0cd7a-736a-471c-941a-9016325ebaf2",
   "metadata": {},
   "outputs": [],
   "source": []
  },
  {
   "cell_type": "code",
   "execution_count": null,
   "id": "f237dfe2-6723-4687-89ac-31abe10fdc19",
   "metadata": {},
   "outputs": [],
   "source": []
  },
  {
   "cell_type": "code",
   "execution_count": 433,
   "id": "4d69cd2f-4400-4355-a778-30ff5ecbd63f",
   "metadata": {},
   "outputs": [],
   "source": [
    "# NAs"
   ]
  },
  {
   "cell_type": "code",
   "execution_count": 434,
   "id": "bb117b4f-5ac8-4d56-b9d8-ebb899a48a0d",
   "metadata": {
    "scrolled": true
   },
   "outputs": [
    {
     "data": {
      "text/plain": [
       "stem-width                    0\n",
       "season                        0\n",
       "stem-height                   1\n",
       "cap-diameter                  7\n",
       "does-bruise-or-bleed         10\n",
       "cap-color                    13\n",
       "has-ring                     19\n",
       "stem-color                   21\n",
       "habitat                      25\n",
       "cap-shape                    31\n",
       "gill-color                   49\n",
       "ring-type                 86195\n",
       "gill-attachment          349821\n",
       "cap-surface              446904\n",
       "gill-spacing             839595\n",
       "stem-surface            1321488\n",
       "veil-color              1826124\n",
       "stem-root               1838012\n",
       "spore-print-color       1899617\n",
       "veil-type               1971545\n",
       "dtype: int64"
      ]
     },
     "execution_count": 434,
     "metadata": {},
     "output_type": "execute_result"
    }
   ],
   "source": [
    "## Missings\n",
    "X_prod.isna().sum().sort_values()"
   ]
  },
  {
   "cell_type": "code",
   "execution_count": 435,
   "id": "778da9f6-7fa5-4c1e-9f05-68d8584cf3d7",
   "metadata": {},
   "outputs": [],
   "source": [
    "#df.dropna() #drops hole dataset!"
   ]
  },
  {
   "cell_type": "code",
   "execution_count": 436,
   "id": "0919363a-1539-4507-8126-991e51e6af22",
   "metadata": {},
   "outputs": [
    {
     "data": {
      "text/plain": [
       "(2077964, 20)"
      ]
     },
     "execution_count": 436,
     "metadata": {},
     "output_type": "execute_result"
    }
   ],
   "source": [
    "X_prod.shape"
   ]
  },
  {
   "cell_type": "code",
   "execution_count": 437,
   "id": "76479508-701d-4404-b4cf-8d7b32943029",
   "metadata": {},
   "outputs": [],
   "source": [
    "# Step 1: Impute missing values in numerical columns using KNNImputer\n",
    "imputer = KNNImputer(n_neighbors=5)\n",
    "df_numerical_imputed = pd.DataFrame(imputer.fit_transform(X_prod[num_cols]), columns=num_cols)"
   ]
  },
  {
   "cell_type": "code",
   "execution_count": 438,
   "id": "c3287c0a-22c6-449a-b59d-a5a4db708d7a",
   "metadata": {},
   "outputs": [],
   "source": [
    "# Step 2: Handle missing values in categorical columns\n",
    "# Option 1: Fill with some statistic: used MODE\n",
    "for col in cat_cols:\n",
    "    mode_value = X_prod[col].mode()[0]  # Get the mode\n",
    "    X_prod.loc[:, col] = X_prod[col].fillna(mode_value)  # Assign the filled values back to the DataFrame"
   ]
  },
  {
   "cell_type": "code",
   "execution_count": 439,
   "id": "acf2a28c-c4cc-4b05-80d1-492c40de2a2c",
   "metadata": {},
   "outputs": [],
   "source": [
    "# Step 3: Combine the imputed numerical DataFrame with the categorical DataFrame\n",
    "X_prod = pd.concat([df_numerical_imputed, X_prod[cat_cols]], axis=1).copy()"
   ]
  },
  {
   "cell_type": "code",
   "execution_count": 440,
   "id": "f149832b-ff23-4dfa-bb0e-20c1f4268a69",
   "metadata": {},
   "outputs": [
    {
     "data": {
      "text/html": [
       "<div>\n",
       "<style scoped>\n",
       "    .dataframe tbody tr th:only-of-type {\n",
       "        vertical-align: middle;\n",
       "    }\n",
       "\n",
       "    .dataframe tbody tr th {\n",
       "        vertical-align: top;\n",
       "    }\n",
       "\n",
       "    .dataframe thead th {\n",
       "        text-align: right;\n",
       "    }\n",
       "</style>\n",
       "<table border=\"1\" class=\"dataframe\">\n",
       "  <thead>\n",
       "    <tr style=\"text-align: right;\">\n",
       "      <th></th>\n",
       "      <th>cap-diameter</th>\n",
       "      <th>stem-height</th>\n",
       "      <th>stem-width</th>\n",
       "      <th>cap-shape</th>\n",
       "      <th>cap-surface</th>\n",
       "      <th>cap-color</th>\n",
       "      <th>does-bruise-or-bleed</th>\n",
       "      <th>gill-attachment</th>\n",
       "      <th>gill-spacing</th>\n",
       "      <th>gill-color</th>\n",
       "      <th>stem-root</th>\n",
       "      <th>stem-surface</th>\n",
       "      <th>stem-color</th>\n",
       "      <th>veil-type</th>\n",
       "      <th>veil-color</th>\n",
       "      <th>has-ring</th>\n",
       "      <th>ring-type</th>\n",
       "      <th>spore-print-color</th>\n",
       "      <th>habitat</th>\n",
       "      <th>season</th>\n",
       "    </tr>\n",
       "  </thead>\n",
       "  <tbody>\n",
       "    <tr>\n",
       "      <th>0</th>\n",
       "      <td>8.640</td>\n",
       "      <td>11.130</td>\n",
       "      <td>17.120</td>\n",
       "      <td>x</td>\n",
       "      <td>t</td>\n",
       "      <td>n</td>\n",
       "      <td>t</td>\n",
       "      <td>a</td>\n",
       "      <td>c</td>\n",
       "      <td>w</td>\n",
       "      <td>b</td>\n",
       "      <td>s</td>\n",
       "      <td>w</td>\n",
       "      <td>u</td>\n",
       "      <td>w</td>\n",
       "      <td>t</td>\n",
       "      <td>g</td>\n",
       "      <td>k</td>\n",
       "      <td>d</td>\n",
       "      <td>a</td>\n",
       "    </tr>\n",
       "    <tr>\n",
       "      <th>1</th>\n",
       "      <td>6.900</td>\n",
       "      <td>1.270</td>\n",
       "      <td>10.750</td>\n",
       "      <td>o</td>\n",
       "      <td>t</td>\n",
       "      <td>o</td>\n",
       "      <td>f</td>\n",
       "      <td>a</td>\n",
       "      <td>c</td>\n",
       "      <td>y</td>\n",
       "      <td>b</td>\n",
       "      <td>s</td>\n",
       "      <td>n</td>\n",
       "      <td>u</td>\n",
       "      <td>w</td>\n",
       "      <td>f</td>\n",
       "      <td>f</td>\n",
       "      <td>k</td>\n",
       "      <td>d</td>\n",
       "      <td>a</td>\n",
       "    </tr>\n",
       "  </tbody>\n",
       "</table>\n",
       "</div>"
      ],
      "text/plain": [
       "   cap-diameter  stem-height  stem-width cap-shape cap-surface cap-color  \\\n",
       "0         8.640       11.130      17.120         x           t         n   \n",
       "1         6.900        1.270      10.750         o           t         o   \n",
       "\n",
       "  does-bruise-or-bleed gill-attachment gill-spacing gill-color stem-root  \\\n",
       "0                    t               a            c          w         b   \n",
       "1                    f               a            c          y         b   \n",
       "\n",
       "  stem-surface stem-color veil-type veil-color has-ring ring-type  \\\n",
       "0            s          w         u          w        t         g   \n",
       "1            s          n         u          w        f         f   \n",
       "\n",
       "  spore-print-color habitat season  \n",
       "0                 k       d      a  \n",
       "1                 k       d      a  "
      ]
     },
     "execution_count": 440,
     "metadata": {},
     "output_type": "execute_result"
    }
   ],
   "source": [
    "X_prod[:2]"
   ]
  },
  {
   "cell_type": "code",
   "execution_count": 441,
   "id": "9ff20927-7bb4-44fa-bf6a-bd1a9cefea9e",
   "metadata": {},
   "outputs": [
    {
     "data": {
      "text/plain": [
       "cap-diameter            0\n",
       "habitat                 0\n",
       "spore-print-color       0\n",
       "ring-type               0\n",
       "has-ring                0\n",
       "veil-color              0\n",
       "veil-type               0\n",
       "stem-color              0\n",
       "stem-surface            0\n",
       "season                  0\n",
       "stem-root               0\n",
       "gill-spacing            0\n",
       "gill-attachment         0\n",
       "does-bruise-or-bleed    0\n",
       "cap-color               0\n",
       "cap-surface             0\n",
       "cap-shape               0\n",
       "stem-width              0\n",
       "stem-height             0\n",
       "gill-color              0\n",
       "target                  0\n",
       "dtype: int64"
      ]
     },
     "execution_count": 441,
     "metadata": {},
     "output_type": "execute_result"
    }
   ],
   "source": [
    "# Check\n",
    "train.isna().sum().sort_values()"
   ]
  },
  {
   "cell_type": "code",
   "execution_count": 442,
   "id": "fadacede-b0cb-424d-a47d-7293ab3a7a2a",
   "metadata": {},
   "outputs": [],
   "source": [
    "#done!"
   ]
  },
  {
   "cell_type": "code",
   "execution_count": null,
   "id": "4ee931d7-a2f2-4af2-9a57-b4a5e89b9d7e",
   "metadata": {},
   "outputs": [],
   "source": []
  },
  {
   "cell_type": "code",
   "execution_count": 444,
   "id": "40497345-5a71-40ae-b350-94f493c782d0",
   "metadata": {},
   "outputs": [
    {
     "name": "stdout",
     "output_type": "stream",
     "text": [
      "(2077964, 20)\n"
     ]
    }
   ],
   "source": [
    "print(X_prod.shape) "
   ]
  },
  {
   "cell_type": "code",
   "execution_count": null,
   "id": "9b37e730-a1d0-4689-8305-a79a5b70ca96",
   "metadata": {},
   "outputs": [],
   "source": []
  },
  {
   "cell_type": "code",
   "execution_count": 445,
   "id": "071f5f4d-0996-4768-8696-f0a5571338ed",
   "metadata": {},
   "outputs": [
    {
     "data": {
      "text/plain": [
       "cap-diameter            float64\n",
       "stem-height             float64\n",
       "stem-width              float64\n",
       "cap-shape                object\n",
       "cap-surface              object\n",
       "cap-color                object\n",
       "does-bruise-or-bleed     object\n",
       "gill-attachment          object\n",
       "gill-spacing             object\n",
       "gill-color               object\n",
       "stem-root                object\n",
       "stem-surface             object\n",
       "stem-color               object\n",
       "veil-type                object\n",
       "veil-color               object\n",
       "has-ring                 object\n",
       "ring-type                object\n",
       "spore-print-color        object\n",
       "habitat                  object\n",
       "season                   object\n",
       "target                    int32\n",
       "dtype: object"
      ]
     },
     "execution_count": 445,
     "metadata": {},
     "output_type": "execute_result"
    }
   ],
   "source": [
    "#Dtypes\n",
    "train.dtypes"
   ]
  },
  {
   "cell_type": "code",
   "execution_count": 446,
   "id": "dfc503b7-a0db-4f2a-9c5b-7362777c9555",
   "metadata": {},
   "outputs": [],
   "source": [
    "#Ok!"
   ]
  },
  {
   "cell_type": "markdown",
   "id": "eff0df86-5e07-4f9c-8bc7-dd20c3dad203",
   "metadata": {},
   "source": [
    "## Submit"
   ]
  },
  {
   "cell_type": "code",
   "execution_count": null,
   "id": "919df3fb-9e41-47a0-9ac1-d58d582e38e2",
   "metadata": {},
   "outputs": [],
   "source": [
    "#se previu 1, então p, senão e."
   ]
  },
  {
   "cell_type": "code",
   "execution_count": 450,
   "id": "6b2382fc-21eb-4b70-9167-dba2b944784b",
   "metadata": {},
   "outputs": [],
   "source": [
    "#predict on prod data:\n",
    "y_hat_prod = CatBoost.predict(X_prod)"
   ]
  },
  {
   "cell_type": "code",
   "execution_count": 451,
   "id": "76a668ae-e215-4357-ab4b-eaa197407889",
   "metadata": {},
   "outputs": [
    {
     "name": "stdout",
     "output_type": "stream",
     "text": [
      "(2077964,)\n"
     ]
    },
    {
     "data": {
      "text/plain": [
       "array([0, 1, 1, 1, 0], dtype=int64)"
      ]
     },
     "execution_count": 451,
     "metadata": {},
     "output_type": "execute_result"
    }
   ],
   "source": [
    "#Predictions done:\n",
    "print(y_hat_prod.shape)\n",
    "y_hat_prod[:5]"
   ]
  },
  {
   "cell_type": "code",
   "execution_count": 452,
   "id": "d25d0bbb-ee46-4903-8ad5-714d122f2161",
   "metadata": {},
   "outputs": [
    {
     "data": {
      "text/plain": [
       "array([0, 1, 1, ..., 1, 0, 0], dtype=int64)"
      ]
     },
     "execution_count": 452,
     "metadata": {},
     "output_type": "execute_result"
    }
   ],
   "source": [
    "y_hat_prod"
   ]
  },
  {
   "cell_type": "code",
   "execution_count": 457,
   "id": "718621ea-70eb-4de7-b6eb-bf380403aa94",
   "metadata": {},
   "outputs": [
    {
     "data": {
      "text/plain": [
       "array(['e', 'p', 'p', ..., 'p', 'e', 'e'], dtype='<U1')"
      ]
     },
     "execution_count": 457,
     "metadata": {},
     "output_type": "execute_result"
    }
   ],
   "source": [
    "y_hat_prod_final = np.where(y_hat_prod == 1, 'p', 'e')\n",
    "y_hat_prod_final"
   ]
  },
  {
   "cell_type": "code",
   "execution_count": 463,
   "id": "acb3fc5f-88bc-442f-a376-3353b79f0887",
   "metadata": {},
   "outputs": [
    {
     "data": {
      "text/html": [
       "<div>\n",
       "<style scoped>\n",
       "    .dataframe tbody tr th:only-of-type {\n",
       "        vertical-align: middle;\n",
       "    }\n",
       "\n",
       "    .dataframe tbody tr th {\n",
       "        vertical-align: top;\n",
       "    }\n",
       "\n",
       "    .dataframe thead th {\n",
       "        text-align: right;\n",
       "    }\n",
       "</style>\n",
       "<table border=\"1\" class=\"dataframe\">\n",
       "  <thead>\n",
       "    <tr style=\"text-align: right;\">\n",
       "      <th></th>\n",
       "      <th>id</th>\n",
       "      <th>class</th>\n",
       "    </tr>\n",
       "  </thead>\n",
       "  <tbody>\n",
       "    <tr>\n",
       "      <th>0</th>\n",
       "      <td>3116945</td>\n",
       "      <td>e</td>\n",
       "    </tr>\n",
       "    <tr>\n",
       "      <th>1</th>\n",
       "      <td>3116946</td>\n",
       "      <td>p</td>\n",
       "    </tr>\n",
       "    <tr>\n",
       "      <th>2</th>\n",
       "      <td>3116947</td>\n",
       "      <td>p</td>\n",
       "    </tr>\n",
       "  </tbody>\n",
       "</table>\n",
       "</div>"
      ],
      "text/plain": [
       "        id class\n",
       "0  3116945     e\n",
       "1  3116946     p\n",
       "2  3116947     p"
      ]
     },
     "execution_count": 463,
     "metadata": {},
     "output_type": "execute_result"
    }
   ],
   "source": [
    "# Prepare for submission: id + predictions:\n",
    "# Create final dataset\n",
    "df_sub = pd.concat([ pd.Series(X_prod_id, name='id') , pd.Series(y_hat_prod_final, name='class') ], axis=1)\n",
    "df_sub[:3]"
   ]
  },
  {
   "cell_type": "code",
   "execution_count": 464,
   "id": "c3441771-ee00-401a-948a-4bfba5e19e81",
   "metadata": {},
   "outputs": [],
   "source": [
    "# Export to submit on Kaggle\n",
    "df_sub.to_csv('..\\\\dt\\\\v1\\\\submission_v1.csv', index=False)"
   ]
  },
  {
   "cell_type": "code",
   "execution_count": null,
   "id": "47e48092-b6a6-4f65-8018-c23f6e579754",
   "metadata": {},
   "outputs": [],
   "source": []
  }
 ],
 "metadata": {
  "kernelspec": {
   "display_name": "Python 3 (ipykernel)",
   "language": "python",
   "name": "python3"
  },
  "language_info": {
   "codemirror_mode": {
    "name": "ipython",
    "version": 3
   },
   "file_extension": ".py",
   "mimetype": "text/x-python",
   "name": "python",
   "nbconvert_exporter": "python",
   "pygments_lexer": "ipython3",
   "version": "3.12.4"
  }
 },
 "nbformat": 4,
 "nbformat_minor": 5
}
